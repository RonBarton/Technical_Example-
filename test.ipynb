{
  "nbformat": 4,
  "nbformat_minor": 0,
  "metadata": {
    "colab": {
      "name": "test.ipynb",
      "provenance": [],
      "authorship_tag": "ABX9TyOaykhDUwccY6wg0m3A42uK",
      "include_colab_link": true
    },
    "kernelspec": {
      "name": "python3",
      "display_name": "Python 3"
    }
  },
  "cells": [
    {
      "cell_type": "markdown",
      "metadata": {
        "id": "view-in-github",
        "colab_type": "text"
      },
      "source": [
        "<a href=\"https://colab.research.google.com/github/mrdobalinaa/Technical_Example-/blob/master/test.ipynb\" target=\"_parent\"><img src=\"https://colab.research.google.com/assets/colab-badge.svg\" alt=\"Open In Colab\"/></a>"
      ]
    },
    {
      "cell_type": "code",
      "metadata": {
        "id": "OYfa5WC8Q1xN",
        "colab_type": "code",
        "colab": {}
      },
      "source": [
        "def hello(): return l"
      ],
      "execution_count": 0,
      "outputs": []
    },
    {
      "cell_type": "markdown",
      "metadata": {
        "id": "dgk1y3hIYqXr",
        "colab_type": "text"
      },
      "source": [
        "**bold text**![alt text](https://user-images.githubusercontent.com/57154990/73123649-fd293280-3f5f-11ea-9e72-872568c7fb27.PNG)"
      ]
    },
    {
      "cell_type": "code",
      "metadata": {
        "id": "m6KAlDIpYy2b",
        "colab_type": "code",
        "colab": {}
      },
      "source": [
        ""
      ],
      "execution_count": 0,
      "outputs": []
    }
  ]
}