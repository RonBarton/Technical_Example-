{
 "cells": [
  {
   "cell_type": "code",
   "execution_count": 4,
   "metadata": {},
   "outputs": [],
   "source": [
    "import pandas as pd"
   ]
  },
  {
   "cell_type": "markdown",
   "metadata": {},
   "source": [
    "# Read Data"
   ]
  },
  {
   "cell_type": "code",
   "execution_count": 5,
   "metadata": {},
   "outputs": [
    {
     "name": "stdout",
     "output_type": "stream",
     "text": [
      "rows, col : (344667, 15) \n",
      "\n",
      "<class 'pandas.core.frame.DataFrame'>\n",
      "RangeIndex: 76903 entries, 0 to 76902\n",
      "Data columns (total 15 columns):\n",
      "Store_Dept      76903 non-null object\n",
      "Weekly_Sales    76903 non-null float64\n",
      "Date            76903 non-null object\n",
      "IsHoliday       76903 non-null bool\n",
      "Temperature     76903 non-null float64\n",
      "Fuel_Price      76903 non-null float64\n",
      "MarkDown1       76494 non-null float64\n",
      "MarkDown2       45180 non-null float64\n",
      "MarkDown3       68432 non-null float64\n",
      "MarkDown4       68573 non-null float64\n",
      "MarkDown5       76903 non-null float64\n",
      "CPI             76903 non-null float64\n",
      "Unemployment    76903 non-null float64\n",
      "Type            76903 non-null object\n",
      "Size            76903 non-null int64\n",
      "dtypes: bool(1), float64(10), int64(1), object(3)\n",
      "memory usage: 8.3+ MB\n"
     ]
    }
   ],
   "source": [
    "#read trainig csv\n",
    "df = pd.read_csv('master.csv')\n",
    "\n",
    "#read test csv\n",
    "df_test = pd.read_csv('test.csv')\n",
    "\n",
    "#data shape & types\n",
    "print(\"rows, col :\", df.shape, \"\\n\")\n",
    "df_test.info()"
   ]
  },
  {
   "cell_type": "code",
   "execution_count": 6,
   "metadata": {},
   "outputs": [
    {
     "name": "stdout",
     "output_type": "stream",
     "text": [
      "Store_Dept           0\n",
      "Date                 0\n",
      "Weekly_Sales         0\n",
      "IsHoliday            0\n",
      "Temperature          0\n",
      "Fuel_Price           0\n",
      "MarkDown1       270480\n",
      "MarkDown2       278599\n",
      "MarkDown3       276008\n",
      "MarkDown4       278273\n",
      "MarkDown5       270138\n",
      "CPI                  0\n",
      "Unemployment         0\n",
      "Type                 0\n",
      "Size                 0\n",
      "dtype: int64 \n",
      "\n"
     ]
    }
   ],
   "source": [
    "#check for missing values\n",
    "print(df.isna().sum(), \"\\n\")"
   ]
  },
  {
   "cell_type": "code",
   "execution_count": 7,
   "metadata": {},
   "outputs": [
    {
     "data": {
      "text/html": [
       "<div>\n",
       "<style scoped>\n",
       "    .dataframe tbody tr th:only-of-type {\n",
       "        vertical-align: middle;\n",
       "    }\n",
       "\n",
       "    .dataframe tbody tr th {\n",
       "        vertical-align: top;\n",
       "    }\n",
       "\n",
       "    .dataframe thead th {\n",
       "        text-align: right;\n",
       "    }\n",
       "</style>\n",
       "<table border=\"1\" class=\"dataframe\">\n",
       "  <thead>\n",
       "    <tr style=\"text-align: right;\">\n",
       "      <th></th>\n",
       "      <th>Weekly_Sales</th>\n",
       "      <th>Temperature</th>\n",
       "      <th>Fuel_Price</th>\n",
       "      <th>MarkDown1</th>\n",
       "      <th>MarkDown2</th>\n",
       "      <th>MarkDown3</th>\n",
       "      <th>MarkDown4</th>\n",
       "      <th>MarkDown5</th>\n",
       "      <th>CPI</th>\n",
       "      <th>Unemployment</th>\n",
       "      <th>Size</th>\n",
       "    </tr>\n",
       "  </thead>\n",
       "  <tbody>\n",
       "    <tr>\n",
       "      <th>count</th>\n",
       "      <td>344667.000000</td>\n",
       "      <td>344667.000000</td>\n",
       "      <td>344667.000000</td>\n",
       "      <td>74187.000000</td>\n",
       "      <td>66068.000000</td>\n",
       "      <td>68659.000000</td>\n",
       "      <td>66394.000000</td>\n",
       "      <td>74529.000000</td>\n",
       "      <td>344667.000000</td>\n",
       "      <td>344667.000000</td>\n",
       "      <td>344667.000000</td>\n",
       "    </tr>\n",
       "    <tr>\n",
       "      <th>mean</th>\n",
       "      <td>16011.033071</td>\n",
       "      <td>57.391070</td>\n",
       "      <td>3.278793</td>\n",
       "      <td>7377.990937</td>\n",
       "      <td>5520.011830</td>\n",
       "      <td>2812.494829</td>\n",
       "      <td>3867.350763</td>\n",
       "      <td>4841.675275</td>\n",
       "      <td>170.260421</td>\n",
       "      <td>8.119909</td>\n",
       "      <td>136807.198011</td>\n",
       "    </tr>\n",
       "    <tr>\n",
       "      <th>std</th>\n",
       "      <td>22859.611439</td>\n",
       "      <td>18.644742</td>\n",
       "      <td>0.454502</td>\n",
       "      <td>9695.184239</td>\n",
       "      <td>11806.737391</td>\n",
       "      <td>13457.720905</td>\n",
       "      <td>8176.212908</td>\n",
       "      <td>5046.201077</td>\n",
       "      <td>38.767201</td>\n",
       "      <td>1.865077</td>\n",
       "      <td>60944.571069</td>\n",
       "    </tr>\n",
       "    <tr>\n",
       "      <th>min</th>\n",
       "      <td>-4988.940000</td>\n",
       "      <td>-2.060000</td>\n",
       "      <td>2.472000</td>\n",
       "      <td>0.500000</td>\n",
       "      <td>-265.760000</td>\n",
       "      <td>-1.000000</td>\n",
       "      <td>0.460000</td>\n",
       "      <td>135.160000</td>\n",
       "      <td>126.064000</td>\n",
       "      <td>4.125000</td>\n",
       "      <td>34875.000000</td>\n",
       "    </tr>\n",
       "    <tr>\n",
       "      <th>25%</th>\n",
       "      <td>2100.335000</td>\n",
       "      <td>43.820000</td>\n",
       "      <td>2.843000</td>\n",
       "      <td>1842.420000</td>\n",
       "      <td>96.520000</td>\n",
       "      <td>5.900000</td>\n",
       "      <td>319.840000</td>\n",
       "      <td>1844.030000</td>\n",
       "      <td>131.940807</td>\n",
       "      <td>7.082000</td>\n",
       "      <td>93638.000000</td>\n",
       "    </tr>\n",
       "    <tr>\n",
       "      <th>50%</th>\n",
       "      <td>7638.860000</td>\n",
       "      <td>58.060000</td>\n",
       "      <td>3.263000</td>\n",
       "      <td>4879.040000</td>\n",
       "      <td>1053.980000</td>\n",
       "      <td>35.490000</td>\n",
       "      <td>1100.930000</td>\n",
       "      <td>3429.820000</td>\n",
       "      <td>182.238988</td>\n",
       "      <td>7.951000</td>\n",
       "      <td>140167.000000</td>\n",
       "    </tr>\n",
       "    <tr>\n",
       "      <th>75%</th>\n",
       "      <td>20179.490000</td>\n",
       "      <td>71.240000</td>\n",
       "      <td>3.669000</td>\n",
       "      <td>9006.210000</td>\n",
       "      <td>5524.490000</td>\n",
       "      <td>203.990000</td>\n",
       "      <td>3380.280000</td>\n",
       "      <td>5996.690000</td>\n",
       "      <td>211.406287</td>\n",
       "      <td>8.622000</td>\n",
       "      <td>202505.000000</td>\n",
       "    </tr>\n",
       "    <tr>\n",
       "      <th>max</th>\n",
       "      <td>693099.360000</td>\n",
       "      <td>100.140000</td>\n",
       "      <td>4.294000</td>\n",
       "      <td>88646.760000</td>\n",
       "      <td>104519.540000</td>\n",
       "      <td>141630.610000</td>\n",
       "      <td>67474.850000</td>\n",
       "      <td>37581.270000</td>\n",
       "      <td>225.367254</td>\n",
       "      <td>14.313000</td>\n",
       "      <td>219622.000000</td>\n",
       "    </tr>\n",
       "  </tbody>\n",
       "</table>\n",
       "</div>"
      ],
      "text/plain": [
       "        Weekly_Sales    Temperature     Fuel_Price     MarkDown1  \\\n",
       "count  344667.000000  344667.000000  344667.000000  74187.000000   \n",
       "mean    16011.033071      57.391070       3.278793   7377.990937   \n",
       "std     22859.611439      18.644742       0.454502   9695.184239   \n",
       "min     -4988.940000      -2.060000       2.472000      0.500000   \n",
       "25%      2100.335000      43.820000       2.843000   1842.420000   \n",
       "50%      7638.860000      58.060000       3.263000   4879.040000   \n",
       "75%     20179.490000      71.240000       3.669000   9006.210000   \n",
       "max    693099.360000     100.140000       4.294000  88646.760000   \n",
       "\n",
       "           MarkDown2      MarkDown3     MarkDown4     MarkDown5  \\\n",
       "count   66068.000000   68659.000000  66394.000000  74529.000000   \n",
       "mean     5520.011830    2812.494829   3867.350763   4841.675275   \n",
       "std     11806.737391   13457.720905   8176.212908   5046.201077   \n",
       "min      -265.760000      -1.000000      0.460000    135.160000   \n",
       "25%        96.520000       5.900000    319.840000   1844.030000   \n",
       "50%      1053.980000      35.490000   1100.930000   3429.820000   \n",
       "75%      5524.490000     203.990000   3380.280000   5996.690000   \n",
       "max    104519.540000  141630.610000  67474.850000  37581.270000   \n",
       "\n",
       "                 CPI   Unemployment           Size  \n",
       "count  344667.000000  344667.000000  344667.000000  \n",
       "mean      170.260421       8.119909  136807.198011  \n",
       "std        38.767201       1.865077   60944.571069  \n",
       "min       126.064000       4.125000   34875.000000  \n",
       "25%       131.940807       7.082000   93638.000000  \n",
       "50%       182.238988       7.951000  140167.000000  \n",
       "75%       211.406287       8.622000  202505.000000  \n",
       "max       225.367254      14.313000  219622.000000  "
      ]
     },
     "execution_count": 7,
     "metadata": {},
     "output_type": "execute_result"
    }
   ],
   "source": [
    "#data exploration of continuous vars\n",
    "df.describe()"
   ]
  },
  {
   "cell_type": "code",
   "execution_count": 8,
   "metadata": {},
   "outputs": [
    {
     "name": "stdout",
     "output_type": "stream",
     "text": [
      "count     344667\n",
      "unique      3313\n",
      "top        42_38\n",
      "freq         117\n",
      "Name: Store_Dept, dtype: object \n",
      "\n",
      "count     344667\n",
      "unique         3\n",
      "top            A\n",
      "freq      176279\n",
      "Name: Type, dtype: object \n",
      "\n"
     ]
    }
   ],
   "source": [
    "#Data Exploration of categorical\n",
    "print(df[\"Store_Dept\"].describe(), \"\\n\") \n",
    "print(df[\"Type\"].describe(), \"\\n\") "
   ]
  },
  {
   "cell_type": "markdown",
   "metadata": {},
   "source": [
    "# Data Visualization"
   ]
  },
  {
   "cell_type": "code",
   "execution_count": 10,
   "metadata": {},
   "outputs": [
    {
     "data": {
      "text/plain": [
       "array([[<matplotlib.axes._subplots.AxesSubplot object at 0x0000020AA54D26D8>]],\n",
       "      dtype=object)"
      ]
     },
     "execution_count": 10,
     "metadata": {},
     "output_type": "execute_result"
    },
    {
     "data": {
      "image/png": "[encoded data removed]",
      "text/plain": [
       "<Figure size 864x1008 with 1 Axes>"
      ]
     },
     "metadata": {
      "needs_background": "light"
     },
     "output_type": "display_data"
    },
    {
     "data": {
      "image/png": "[encoded data removed]",
      "text/plain": [
       "<Figure size 864x576 with 1 Axes>"
      ]
     },
     "metadata": {
      "needs_background": "light"
     },
     "output_type": "display_data"
    },
    {
     "data": {
      "image/png": "[encoded data removed]",
      "text/plain": [
       "<Figure size 864x576 with 1 Axes>"
      ]
     },
     "metadata": {
      "needs_background": "light"
     },
     "output_type": "display_data"
    },
    {
     "data": {
      "image/png": "[encoded data removed]",
      "text/plain": [
       "<Figure size 864x576 with 1 Axes>"
      ]
     },
     "metadata": {
      "needs_background": "light"
     },
     "output_type": "display_data"
    },
    {
     "data": {
      "image/png": "[encoded data removed]",
      "text/plain": [
       "<Figure size 864x576 with 1 Axes>"
      ]
     },
     "metadata": {
      "needs_background": "light"
     },
     "output_type": "display_data"
    },
    {
     "data": {
      "image/png": "[encoded data removed]",
      "text/plain": [
       "<Figure size 864x576 with 1 Axes>"
      ]
     },
     "metadata": {
      "needs_background": "light"
     },
     "output_type": "display_data"
    },
    {
     "data": {
      "image/png": "[encoded data removed]",
      "text/plain": [
       "<Figure size 864x576 with 1 Axes>"
      ]
     },
     "metadata": {
      "needs_background": "light"
     },
     "output_type": "display_data"
    },
    {
     "data": {
      "image/png": "[encoded data removed]",
      "text/plain": [
       "<Figure size 864x576 with 1 Axes>"
      ]
     },
     "metadata": {
      "needs_background": "light"
     },
     "output_type": "display_data"
    },
    {
     "data": {
      "image/png": "[encoded data removed]",
      "text/plain": [
       "<Figure size 864x576 with 1 Axes>"
      ]
     },
     "metadata": {
      "needs_background": "light"
     },
     "output_type": "display_data"
    },
    {
     "data": {
      "image/png": "[encoded data removed]",
      "text/plain": [
       "<Figure size 864x576 with 1 Axes>"
      ]
     },
     "metadata": {
      "needs_background": "light"
     },
     "output_type": "display_data"
    },
    {
     "data": {
      "image/png": "[encoded data removed]",
      "text/plain": [
       "<Figure size 864x576 with 1 Axes>"
      ]
     },
     "metadata": {
      "needs_background": "light"
     },
     "output_type": "display_data"
    }
   ],
   "source": [
    "#Data Viz of Continous Vars\n",
    "#wanted to experiment with different bin sizes so did not use loop to genreate all\n",
    "\n",
    "df.hist(column='Weekly_Sales', bins=50, grid=False, figsize=(12,14), color='#86bf91', zorder=2, rwidth=0.9)\n",
    "\n",
    "df.hist(column='Temperature', bins=30, grid=False, figsize=(12,8), color='#86bf91', zorder=2, rwidth=0.9)\n",
    "\n",
    "df.hist(column='Fuel_Price', bins=20, grid=False, figsize=(12,8), color='#86bf91', zorder=2, rwidth=0.9)\n",
    "\n",
    "\n",
    "df.hist(column='MarkDown1', bins=20, grid=False, figsize=(12,8), color='#86bf91', zorder=2, rwidth=0.9)\n",
    "df.hist(column='MarkDown2', bins=20, grid=False, figsize=(12,8), color='#86bf91', zorder=2, rwidth=0.9)\n",
    "df.hist(column='MarkDown3', bins=20, grid=False, figsize=(12,8), color='#86bf91', zorder=2, rwidth=0.9)\n",
    "df.hist(column='MarkDown4', bins=20, grid=False, figsize=(12,8), color='#86bf91', zorder=2, rwidth=0.9)\n",
    "df.hist(column='MarkDown5', bins=20, grid=False, figsize=(12,8), color='#86bf91', zorder=2, rwidth=0.9)\n",
    "\n",
    "df.hist(column='CPI', bins=20, grid=False, figsize=(12,8), color='#86bf91', zorder=2, rwidth=0.9)\n",
    "\n",
    "df.hist(column='Unemployment', bins=20, grid=False, figsize=(12,8), color='#86bf91', zorder=2, rwidth=0.9)\n",
    "\n",
    "df.hist(column='Size', bins=40, grid=False, figsize=(12,8), color='#86bf91', zorder=2, rwidth=0.9)"
   ]
  },
  {
   "cell_type": "code",
   "execution_count": 8,
   "metadata": {},
   "outputs": [
    {
     "data": {
      "text/plain": [
       "<matplotlib.axes._subplots.AxesSubplot at 0x28096d7def0>"
      ]
     },
     "execution_count": 8,
     "metadata": {},
     "output_type": "execute_result"
    },
    {
     "data": {
      "image/png": "[encoded data removed]",
      "text/plain": [
       "<Figure size 432x288 with 1 Axes>"
      ]
     },
     "metadata": {
      "needs_background": "light"
     },
     "output_type": "display_data"
    }
   ],
   "source": [
    "#Data Viz for categorical Type\n",
    "df['Type'].value_counts().plot(kind='bar')"
   ]
  },
  {
   "cell_type": "code",
   "execution_count": 9,
   "metadata": {},
   "outputs": [
    {
     "data": {
      "text/plain": [
       "<matplotlib.axes._subplots.AxesSubplot at 0x28097e2f748>"
      ]
     },
     "execution_count": 9,
     "metadata": {},
     "output_type": "execute_result"
    },
    {
     "data": {
      "image/png": "[encoded data removed]",
      "text/plain": [
       "<Figure size 432x288 with 1 Axes>"
      ]
     },
     "metadata": {
      "needs_background": "light"
     },
     "output_type": "display_data"
    }
   ],
   "source": [
    "#data Viz for Boolean IsHoliday\n",
    "df['IsHoliday'].value_counts().plot(kind='bar')"
   ]
  },
  {
   "cell_type": "markdown",
   "metadata": {},
   "source": [
    "# Data Manipulation"
   ]
  },
  {
   "cell_type": "code",
   "execution_count": 11,
   "metadata": {},
   "outputs": [],
   "source": [
    "#Transform Store_Dept var, seperate the store and department into sperate vars\n",
    "df['Store_Dept'] = df['Store_Dept'].astype('str')\n",
    "df_test['Store_Dept'] = df_test['Store_Dept'].astype('str')\n",
    "\n",
    "# new data frame with split value columns \n",
    "new = df[\"Store_Dept\"].str.split(\"_\", expand = True) \n",
    "new_test = df_test[\"Store_Dept\"].str.split(\"_\", expand = True) \n",
    "\n",
    "# making separate column from new data frame \n",
    "df[\"Store\"]= new[0] \n",
    "df[\"Dept\"]= new[1] \n",
    "\n",
    "df_test[\"Store\"]= new_test[0] \n",
    "df_test[\"Dept\"]= new_test[1]\n",
    "\n",
    "#drop old column\n",
    "df.drop(columns =[\"Store_Dept\"], inplace = True) \n",
    "df_test.drop(columns =[\"Store_Dept\"], inplace = True) "
   ]
  },
  {
   "cell_type": "code",
   "execution_count": 12,
   "metadata": {},
   "outputs": [],
   "source": [
    "#Transform Date var - seperate into year, month, time of month \n",
    "df['Date'] = df['Date'].astype('str')\n",
    "df_test['Date'] = df_test['Date'].astype('str')\n",
    "\n",
    "# new data frame with split value columns\n",
    "date = df[\"Date\"].str.split(\"/\", n=2,  expand = True) \n",
    "date_test = df_test[\"Date\"].str.split(\"/\", n=2,  expand = True)\n",
    "\n",
    "# making separate column from new data frame \n",
    "df[\"Month\"]= date[0] \n",
    "df[\"Day\"]= date[1]\n",
    "df[\"Year\"]= date[2]\n",
    "\n",
    "df_test[\"Month\"]= date_test[0] \n",
    "df_test[\"Day\"]= date_test[1]\n",
    "df_test[\"Year\"]= date_test[2]\n",
    "\n",
    "#drop old column\n",
    "df.drop(columns =[\"Date\"], inplace = True) \n",
    "df_test.drop(columns =[\"Date\"], inplace = True) "
   ]
  },
  {
   "cell_type": "code",
   "execution_count": 13,
   "metadata": {},
   "outputs": [],
   "source": [
    "#Assign the range of 31 days into weekly bins \n",
    "#(may or may not be useful but trying to keep all info from original Date variable)\n",
    "#caputre trends that may exist with early, mid, late month, (ex. payday the 1st and 15th for a lot of people)\n",
    "df['Day'] = df['Day'].astype('int')\n",
    "bins = [0, 7, 14, 21, 28, 31]\n",
    "labels = ['1st_week', '2nd_week', '3rd_week', '4th_week', 'last_3_days']\n",
    "df['part_of_month'] = pd.cut(df['Day'], right=True, bins=bins, labels=labels)\n",
    "\n",
    "df_test['Day'] = df_test['Day'].astype('int')\n",
    "df_test['part_of_month'] = pd.cut(df_test['Day'], right=True, bins=bins, labels=labels)\n",
    "\n",
    "#drop old column\n",
    "df.drop(columns =[\"Day\"], inplace = True) \n",
    "df_test.drop(columns =[\"Day\"], inplace = True)"
   ]
  },
  {
   "cell_type": "code",
   "execution_count": 14,
   "metadata": {},
   "outputs": [],
   "source": [
    "#assign data types\n",
    "df['IsHoliday'] = pd.Categorical(df['IsHoliday'])\n",
    "df['Type'] = pd.Categorical(df['Type'])\n",
    "df['Store'] = pd.Categorical(df['Store'])\n",
    "df['Dept'] = pd.Categorical(df['Dept'])\n",
    "df['Month'] = pd.Categorical(df['Month'])\n",
    "df['Year'] = pd.Categorical(df['Year'])\n",
    "\n",
    "df_test['IsHoliday'] = pd.Categorical(df_test['IsHoliday'])\n",
    "df_test['Type'] = pd.Categorical(df_test['Type'])\n",
    "df_test['Store'] = pd.Categorical(df_test['Store'])\n",
    "df_test['Dept'] = pd.Categorical(df_test['Dept'])\n",
    "df_test['Month'] = pd.Categorical(df_test['Month'])\n",
    "df_test['Year'] = pd.Categorical(df_test['Year'])\n"
   ]
  },
  {
   "cell_type": "code",
   "execution_count": 15,
   "metadata": {},
   "outputs": [
    {
     "name": "stdout",
     "output_type": "stream",
     "text": [
      "<class 'pandas.core.frame.DataFrame'>\n",
      "RangeIndex: 344667 entries, 0 to 344666\n",
      "Data columns (total 18 columns):\n",
      "Weekly_Sales     344667 non-null float64\n",
      "IsHoliday        344667 non-null category\n",
      "Temperature      344667 non-null float64\n",
      "Fuel_Price       344667 non-null float64\n",
      "MarkDown1        74187 non-null float64\n",
      "MarkDown2        66068 non-null float64\n",
      "MarkDown3        68659 non-null float64\n",
      "MarkDown4        66394 non-null float64\n",
      "MarkDown5        74529 non-null float64\n",
      "CPI              344667 non-null float64\n",
      "Unemployment     344667 non-null float64\n",
      "Type             344667 non-null category\n",
      "Size             344667 non-null int64\n",
      "Store            344667 non-null category\n",
      "Dept             344667 non-null category\n",
      "Month            344667 non-null category\n",
      "Year             344667 non-null category\n",
      "part_of_month    344667 non-null category\n",
      "dtypes: category(7), float64(10), int64(1)\n",
      "memory usage: 31.2 MB\n"
     ]
    }
   ],
   "source": [
    "#check training data\n",
    "df.info()"
   ]
  },
  {
   "cell_type": "markdown",
   "metadata": {},
   "source": [
    "#### Test Set"
   ]
  },
  {
   "cell_type": "code",
   "execution_count": 17,
   "metadata": {},
   "outputs": [
    {
     "name": "stdout",
     "output_type": "stream",
     "text": [
      "<class 'pandas.core.frame.DataFrame'>\n",
      "RangeIndex: 76903 entries, 0 to 76902\n",
      "Data columns (total 18 columns):\n",
      "Weekly_Sales     76903 non-null float64\n",
      "IsHoliday        76903 non-null category\n",
      "Temperature      76903 non-null float64\n",
      "Fuel_Price       76903 non-null float64\n",
      "MarkDown1        76494 non-null float64\n",
      "MarkDown2        45180 non-null float64\n",
      "MarkDown3        68432 non-null float64\n",
      "MarkDown4        68573 non-null float64\n",
      "MarkDown5        76903 non-null float64\n",
      "CPI              76903 non-null float64\n",
      "Unemployment     76903 non-null float64\n",
      "Type             76903 non-null category\n",
      "Size             76903 non-null int64\n",
      "Store            76903 non-null category\n",
      "Dept             76903 non-null category\n",
      "Month            76903 non-null category\n",
      "Year             76903 non-null category\n",
      "part_of_month    76903 non-null category\n",
      "dtypes: category(7), float64(10), int64(1)\n",
      "memory usage: 7.0 MB\n",
      "None\n",
      "(76903, 18)\n"
     ]
    }
   ],
   "source": [
    "#check testing data \n",
    "print(df_test.info())\n",
    "print(df_test.shape)"
   ]
  },
  {
   "cell_type": "markdown",
   "metadata": {},
   "source": [
    "# Imputation Test/Train Split"
   ]
  },
  {
   "cell_type": "code",
   "execution_count": 18,
   "metadata": {},
   "outputs": [],
   "source": [
    "from sklearn.model_selection import train_test_split\n",
    "import numpy as np"
   ]
  },
  {
   "cell_type": "code",
   "execution_count": 17,
   "metadata": {},
   "outputs": [
    {
     "name": "stdout",
     "output_type": "stream",
     "text": [
      "Requirement already satisfied: fancyimpute in c:\\users\\rbart\\appdata\\roaming\\python\\python37\\site-packages (0.5.4)\n",
      "Requirement already satisfied: tensorflow in c:\\users\\rbart\\appdata\\roaming\\python\\python37\\site-packages (from fancyimpute) (2.0.0)\n",
      "Requirement already satisfied: numpy>=1.10 in c:\\users\\rbart\\appdata\\roaming\\python\\python37\\site-packages (from fancyimpute) (1.17.3)\n",
      "Requirement already satisfied: keras>=2.0.0 in d:\\users\\rbart\\anaconda3\\lib\\site-packages (from fancyimpute) (2.3.1)\n",
      "Requirement already satisfied: scikit-learn>=0.21.2 in c:\\users\\rbart\\appdata\\roaming\\python\\python37\\site-packages (from fancyimpute) (0.21.3)\n",
      "Requirement already satisfied: cvxpy>=1.0.6 in c:\\users\\rbart\\appdata\\roaming\\python\\python37\\site-packages (from fancyimpute) (1.0.25)\n",
      "Requirement already satisfied: knnimpute in d:\\users\\rbart\\anaconda3\\lib\\site-packages (from fancyimpute) (0.1.0)\n",
      "Requirement already satisfied: scipy in d:\\users\\rbart\\anaconda3\\lib\\site-packages (from fancyimpute) (1.1.0)\n",
      "Requirement already satisfied: grpcio>=1.8.6 in c:\\users\\rbart\\appdata\\roaming\\python\\python37\\site-packages (from tensorflow->fancyimpute) (1.24.3)\n",
      "Requirement already satisfied: wrapt>=1.11.1 in c:\\users\\rbart\\appdata\\roaming\\python\\python37\\site-packages (from tensorflow->fancyimpute) (1.11.2)\n",
      "Requirement already satisfied: tensorflow-estimator<2.1.0,>=2.0.0 in c:\\users\\rbart\\appdata\\roaming\\python\\python37\\site-packages (from tensorflow->fancyimpute) (2.0.1)\n",
      "Requirement already satisfied: keras-preprocessing>=1.0.5 in d:\\users\\rbart\\anaconda3\\lib\\site-packages (from tensorflow->fancyimpute) (1.1.0)\n",
      "Requirement already satisfied: astor>=0.6.0 in c:\\users\\rbart\\appdata\\roaming\\python\\python37\\site-packages (from tensorflow->fancyimpute) (0.8.0)\n",
      "Requirement already satisfied: opt-einsum>=2.3.2 in c:\\users\\rbart\\appdata\\roaming\\python\\python37\\site-packages (from tensorflow->fancyimpute) (3.1.0)\n",
      "Requirement already satisfied: termcolor>=1.1.0 in c:\\users\\rbart\\appdata\\roaming\\python\\python37\\site-packages (from tensorflow->fancyimpute) (1.1.0)\n",
      "Requirement already satisfied: gast==0.2.2 in c:\\users\\rbart\\appdata\\roaming\\python\\python37\\site-packages (from tensorflow->fancyimpute) (0.2.2)\n",
      "Requirement already satisfied: google-pasta>=0.1.6 in c:\\users\\rbart\\appdata\\roaming\\python\\python37\\site-packages (from tensorflow->fancyimpute) (0.1.7)\n",
      "Requirement already satisfied: tensorboard<2.1.0,>=2.0.0 in c:\\users\\rbart\\appdata\\roaming\\python\\python37\\site-packages (from tensorflow->fancyimpute) (2.0.0)\n",
      "Requirement already satisfied: wheel>=0.26 in d:\\users\\rbart\\anaconda3\\lib\\site-packages (from tensorflow->fancyimpute) (0.32.3)\n",
      "Requirement already satisfied: keras-applications>=1.0.8 in d:\\users\\rbart\\anaconda3\\lib\\site-packages (from tensorflow->fancyimpute) (1.0.8)\n",
      "Requirement already satisfied: protobuf>=3.6.1 in c:\\users\\rbart\\appdata\\roaming\\python\\python37\\site-packages (from tensorflow->fancyimpute) (3.10.0)\n",
      "Requirement already satisfied: absl-py>=0.7.0 in c:\\users\\rbart\\appdata\\roaming\\python\\python37\\site-packages (from tensorflow->fancyimpute) (0.8.1)\n",
      "Requirement already satisfied: six>=1.10.0 in d:\\users\\rbart\\anaconda3\\lib\\site-packages (from tensorflow->fancyimpute) (1.12.0)\n",
      "Requirement already satisfied: pyyaml in d:\\users\\rbart\\anaconda3\\lib\\site-packages (from keras>=2.0.0->fancyimpute) (3.13)\n",
      "Requirement already satisfied: h5py in d:\\users\\rbart\\anaconda3\\lib\\site-packages (from keras>=2.0.0->fancyimpute) (2.8.0)\n",
      "Requirement already satisfied: joblib>=0.11 in d:\\users\\rbart\\anaconda3\\lib\\site-packages (from scikit-learn>=0.21.2->fancyimpute) (0.13.0)\n",
      "Requirement already satisfied: ecos>=2 in c:\\users\\rbart\\appdata\\roaming\\python\\python37\\site-packages (from cvxpy>=1.0.6->fancyimpute) (2.0.7.post1)\n",
      "Requirement already satisfied: multiprocess in c:\\users\\rbart\\appdata\\roaming\\python\\python37\\site-packages (from cvxpy>=1.0.6->fancyimpute) (0.70.9)\n",
      "Requirement already satisfied: osqp>=0.4.1 in d:\\users\\rbart\\anaconda3\\lib\\site-packages (from cvxpy>=1.0.6->fancyimpute) (0.6.1)\n",
      "Requirement already satisfied: scs>=1.1.3 in c:\\users\\rbart\\appdata\\roaming\\python\\python37\\site-packages (from cvxpy>=1.0.6->fancyimpute) (2.1.1.post2)\n",
      "Requirement already satisfied: markdown>=2.6.8 in c:\\users\\rbart\\appdata\\roaming\\python\\python37\\site-packages (from tensorboard<2.1.0,>=2.0.0->tensorflow->fancyimpute) (3.1.1)\n",
      "Requirement already satisfied: werkzeug>=0.11.15 in d:\\users\\rbart\\anaconda3\\lib\\site-packages (from tensorboard<2.1.0,>=2.0.0->tensorflow->fancyimpute) (0.14.1)\n",
      "Requirement already satisfied: setuptools>=41.0.0 in d:\\users\\rbart\\anaconda3\\lib\\site-packages (from tensorboard<2.1.0,>=2.0.0->tensorflow->fancyimpute) (41.4.0)\n",
      "Requirement already satisfied: dill>=0.3.1 in c:\\users\\rbart\\appdata\\roaming\\python\\python37\\site-packages (from multiprocess->cvxpy>=1.0.6->fancyimpute) (0.3.1.1)\n",
      "Requirement already satisfied: future in d:\\users\\rbart\\anaconda3\\lib\\site-packages (from osqp>=0.4.1->cvxpy>=1.0.6->fancyimpute) (0.17.1)\n"
     ]
    }
   ],
   "source": [
    "###installing fancyimpute...had some trouble but eventually works (need MS visual C++ >14.0 as well)\n",
    "#!pip install --upgrade setuptools\n",
    "#!pip list --outdated\n",
    "#!pip install numpy -U --user\n",
    "#!conda install ecos  \n",
    "#!conda install CVXcanon \n",
    "#!pip install fancyimpute --user\n"
   ]
  },
  {
   "cell_type": "code",
   "execution_count": 15,
   "metadata": {},
   "outputs": [
    {
     "name": "stdout",
     "output_type": "stream",
     "text": [
      "['C:\\\\Users\\\\rbart\\\\Google Drive\\\\ML\\\\python', 'D:\\\\Users\\\\rbart\\\\Anaconda3\\\\python37.zip', 'D:\\\\Users\\\\rbart\\\\Anaconda3\\\\DLLs', 'D:\\\\Users\\\\rbart\\\\Anaconda3\\\\lib', 'D:\\\\Users\\\\rbart\\\\Anaconda3', '', 'C:\\\\Users\\\\rbart\\\\AppData\\\\Roaming\\\\Python\\\\Python37\\\\site-packages', 'D:\\\\Users\\\\rbart\\\\Anaconda3\\\\lib\\\\site-packages', 'D:\\\\Users\\\\rbart\\\\Anaconda3\\\\lib\\\\site-packages\\\\win32', 'D:\\\\Users\\\\rbart\\\\Anaconda3\\\\lib\\\\site-packages\\\\win32\\\\lib', 'D:\\\\Users\\\\rbart\\\\Anaconda3\\\\lib\\\\site-packages\\\\Pythonwin', 'D:\\\\Users\\\\rbart\\\\Anaconda3\\\\lib\\\\site-packages\\\\IPython\\\\extensions', 'C:\\\\Users\\\\rbart\\\\.ipython']\n"
     ]
    }
   ],
   "source": [
    "#confirming path \n",
    "import sys; print(sys.path)"
   ]
  },
  {
   "cell_type": "code",
   "execution_count": 19,
   "metadata": {},
   "outputs": [],
   "source": [
    "#keeping column labels for imputation...fancy impute needs an array and will lose labels\n",
    "#only needed one of these on second look\n",
    "df_train_numeric_for_labels = df.select_dtypes(include=[np.float])\n",
    "\n",
    "df_test_numeric_for_labels = df_test.select_dtypes(include=[np.float])"
   ]
  },
  {
   "cell_type": "code",
   "execution_count": 20,
   "metadata": {},
   "outputs": [
    {
     "name": "stderr",
     "output_type": "stream",
     "text": [
      "Using TensorFlow backend.\n",
      "D:\\Users\\rbart\\Anaconda3\\lib\\site-packages\\ipykernel_launcher.py:7: FutureWarning: Method .as_matrix will be removed in a future version. Use .values instead.\n",
      "  import sys\n"
     ]
    },
    {
     "name": "stdout",
     "output_type": "stream",
     "text": [
      "[SoftImpute] Max Singular Value of X_init = 16414682.570277\n",
      "[SoftImpute] Iter 1: observed MAE=178.328430 rank=6\n",
      "[SoftImpute] Iter 2: observed MAE=178.266922 rank=6\n",
      "[SoftImpute] Iter 3: observed MAE=178.216489 rank=6\n",
      "[SoftImpute] Iter 4: observed MAE=178.175948 rank=6\n",
      "[SoftImpute] Iter 5: observed MAE=178.143513 rank=6\n",
      "[SoftImpute] Iter 6: observed MAE=178.118129 rank=6\n",
      "[SoftImpute] Iter 7: observed MAE=178.098857 rank=6\n",
      "[SoftImpute] Iter 8: observed MAE=178.085004 rank=6\n",
      "[SoftImpute] Iter 9: observed MAE=178.075976 rank=6\n",
      "[SoftImpute] Iter 10: observed MAE=178.071177 rank=6\n",
      "[SoftImpute] Iter 11: observed MAE=178.070027 rank=6\n",
      "[SoftImpute] Iter 12: observed MAE=178.072021 rank=6\n",
      "[SoftImpute] Iter 13: observed MAE=178.076773 rank=6\n",
      "[SoftImpute] Iter 14: observed MAE=178.083604 rank=6\n",
      "[SoftImpute] Iter 15: observed MAE=178.092406 rank=6\n",
      "[SoftImpute] Iter 16: observed MAE=178.102905 rank=6\n",
      "[SoftImpute] Iter 17: observed MAE=178.114908 rank=6\n",
      "[SoftImpute] Iter 18: observed MAE=178.128019 rank=6\n",
      "[SoftImpute] Iter 19: observed MAE=178.142100 rank=6\n",
      "[SoftImpute] Iter 20: observed MAE=178.157004 rank=6\n",
      "[SoftImpute] Iter 21: observed MAE=178.172446 rank=6\n",
      "[SoftImpute] Iter 22: observed MAE=178.188398 rank=6\n",
      "[SoftImpute] Iter 23: observed MAE=178.204715 rank=6\n",
      "[SoftImpute] Iter 24: observed MAE=178.221358 rank=6\n",
      "[SoftImpute] Iter 25: observed MAE=178.238286 rank=6\n",
      "[SoftImpute] Iter 26: observed MAE=178.255347 rank=6\n",
      "[SoftImpute] Iter 27: observed MAE=178.272651 rank=6\n",
      "[SoftImpute] Iter 28: observed MAE=178.290122 rank=6\n",
      "[SoftImpute] Iter 29: observed MAE=178.307624 rank=6\n",
      "[SoftImpute] Iter 30: observed MAE=178.325088 rank=6\n",
      "[SoftImpute] Iter 31: observed MAE=178.342508 rank=6\n",
      "[SoftImpute] Iter 32: observed MAE=178.359759 rank=6\n",
      "[SoftImpute] Iter 33: observed MAE=178.376836 rank=6\n",
      "[SoftImpute] Iter 34: observed MAE=178.393743 rank=6\n",
      "[SoftImpute] Iter 35: observed MAE=178.410487 rank=6\n",
      "[SoftImpute] Iter 36: observed MAE=178.426991 rank=6\n",
      "[SoftImpute] Iter 37: observed MAE=178.443226 rank=6\n",
      "[SoftImpute] Iter 38: observed MAE=178.459242 rank=6\n",
      "[SoftImpute] Iter 39: observed MAE=178.475006 rank=6\n",
      "[SoftImpute] Iter 40: observed MAE=178.490515 rank=6\n",
      "[SoftImpute] Iter 41: observed MAE=178.505752 rank=6\n",
      "[SoftImpute] Iter 42: observed MAE=178.520733 rank=6\n",
      "[SoftImpute] Iter 43: observed MAE=178.535421 rank=6\n",
      "[SoftImpute] Iter 44: observed MAE=178.549814 rank=6\n",
      "[SoftImpute] Iter 45: observed MAE=178.563910 rank=6\n",
      "[SoftImpute] Iter 46: observed MAE=178.577703 rank=6\n",
      "[SoftImpute] Iter 47: observed MAE=178.591195 rank=6\n",
      "[SoftImpute] Iter 48: observed MAE=178.604373 rank=6\n",
      "[SoftImpute] Iter 49: observed MAE=178.617232 rank=6\n",
      "[SoftImpute] Iter 50: observed MAE=178.629797 rank=6\n",
      "[SoftImpute] Iter 51: observed MAE=178.642062 rank=6\n",
      "[SoftImpute] Iter 52: observed MAE=178.654017 rank=6\n",
      "[SoftImpute] Iter 53: observed MAE=178.665667 rank=6\n",
      "[SoftImpute] Iter 54: observed MAE=178.677021 rank=6\n",
      "[SoftImpute] Iter 55: observed MAE=178.688081 rank=6\n",
      "[SoftImpute] Iter 56: observed MAE=178.698857 rank=6\n",
      "[SoftImpute] Iter 57: observed MAE=178.709349 rank=6\n",
      "[SoftImpute] Iter 58: observed MAE=178.719565 rank=6\n",
      "[SoftImpute] Iter 59: observed MAE=178.729503 rank=6\n",
      "[SoftImpute] Iter 60: observed MAE=178.739168 rank=6\n",
      "[SoftImpute] Iter 61: observed MAE=178.748567 rank=6\n",
      "[SoftImpute] Iter 62: observed MAE=178.757711 rank=6\n",
      "[SoftImpute] Iter 63: observed MAE=178.766601 rank=6\n",
      "[SoftImpute] Iter 64: observed MAE=178.775244 rank=6\n",
      "[SoftImpute] Iter 65: observed MAE=178.783641 rank=6\n",
      "[SoftImpute] Iter 66: observed MAE=178.791794 rank=6\n",
      "[SoftImpute] Iter 67: observed MAE=178.799715 rank=6\n",
      "[SoftImpute] Iter 68: observed MAE=178.807422 rank=6\n",
      "[SoftImpute] Iter 69: observed MAE=178.814904 rank=6\n",
      "[SoftImpute] Iter 70: observed MAE=178.822164 rank=6\n",
      "[SoftImpute] Iter 71: observed MAE=178.829211 rank=6\n",
      "[SoftImpute] Iter 72: observed MAE=178.836049 rank=6\n",
      "[SoftImpute] Iter 73: observed MAE=178.842692 rank=6\n",
      "[SoftImpute] Iter 74: observed MAE=178.849145 rank=6\n",
      "[SoftImpute] Iter 75: observed MAE=178.855411 rank=6\n",
      "[SoftImpute] Iter 76: observed MAE=178.861491 rank=6\n",
      "[SoftImpute] Iter 77: observed MAE=178.867390 rank=6\n",
      "[SoftImpute] Iter 78: observed MAE=178.873116 rank=6\n",
      "[SoftImpute] Iter 79: observed MAE=178.878668 rank=6\n",
      "[SoftImpute] Iter 80: observed MAE=178.884051 rank=6\n",
      "[SoftImpute] Iter 81: observed MAE=178.889271 rank=6\n",
      "[SoftImpute] Iter 82: observed MAE=178.894336 rank=6\n",
      "[SoftImpute] Iter 83: observed MAE=178.899249 rank=6\n",
      "[SoftImpute] Iter 84: observed MAE=178.904014 rank=6\n",
      "[SoftImpute] Iter 85: observed MAE=178.908634 rank=6\n",
      "[SoftImpute] Iter 86: observed MAE=178.913113 rank=6\n",
      "[SoftImpute] Iter 87: observed MAE=178.917455 rank=6\n",
      "[SoftImpute] Iter 88: observed MAE=178.921666 rank=6\n",
      "[SoftImpute] Iter 89: observed MAE=178.925748 rank=6\n",
      "[SoftImpute] Iter 90: observed MAE=178.929705 rank=6\n",
      "[SoftImpute] Iter 91: observed MAE=178.933541 rank=6\n",
      "[SoftImpute] Iter 92: observed MAE=178.937259 rank=6\n",
      "[SoftImpute] Iter 93: observed MAE=178.940865 rank=6\n",
      "[SoftImpute] Iter 94: observed MAE=178.944360 rank=6\n",
      "[SoftImpute] Iter 95: observed MAE=178.947749 rank=6\n",
      "[SoftImpute] Iter 96: observed MAE=178.951033 rank=6\n",
      "[SoftImpute] Iter 97: observed MAE=178.954216 rank=6\n",
      "[SoftImpute] Iter 98: observed MAE=178.957299 rank=6\n",
      "[SoftImpute] Iter 99: observed MAE=178.960288 rank=6\n",
      "[SoftImpute] Iter 100: observed MAE=178.963185 rank=6\n",
      "[SoftImpute] Stopped after iteration 100 for lambda=328293.651406\n"
     ]
    }
   ],
   "source": [
    "#Tried to impute Markdown columns using KNN, did not have enough memory, so using SoftImpute \n",
    "#SoftImpute = Matrix completion by iterative soft thresholding of SVD decompositions\n",
    "import fancyimpute as fp\n",
    "from fancyimpute import KNN\n",
    "from fancyimpute import SoftImpute\n",
    "\n",
    "df_train_numeric = df.select_dtypes(include=[np.float]).as_matrix()\n",
    "df_complete1=pd.DataFrame(SoftImpute().fit_transform(df_train_numeric), columns=df_train_numeric_for_labels.columns, index =df_train_numeric_for_labels.index)\n",
    "\n"
   ]
  },
  {
   "cell_type": "code",
   "execution_count": 21,
   "metadata": {},
   "outputs": [
    {
     "name": "stderr",
     "output_type": "stream",
     "text": [
      "D:\\Users\\rbart\\Anaconda3\\lib\\site-packages\\ipykernel_launcher.py:3: FutureWarning: Method .as_matrix will be removed in a future version. Use .values instead.\n",
      "  This is separate from the ipykernel package so we can avoid doing imports until\n"
     ]
    },
    {
     "name": "stdout",
     "output_type": "stream",
     "text": [
      "[SoftImpute] Max Singular Value of X_init = 7734059.418805\n",
      "[SoftImpute] Iter 1: observed MAE=158.456237 rank=4\n",
      "[SoftImpute] Iter 2: observed MAE=158.705459 rank=4\n",
      "[SoftImpute] Iter 3: observed MAE=158.792874 rank=4\n",
      "[SoftImpute] Iter 4: observed MAE=158.828245 rank=4\n",
      "[SoftImpute] Iter 5: observed MAE=158.845851 rank=4\n",
      "[SoftImpute] Iter 6: observed MAE=158.856458 rank=4\n",
      "[SoftImpute] Iter 7: observed MAE=158.863679 rank=4\n",
      "[SoftImpute] Iter 8: observed MAE=158.868965 rank=4\n",
      "[SoftImpute] Iter 9: observed MAE=158.872971 rank=4\n",
      "[SoftImpute] Iter 10: observed MAE=158.876058 rank=4\n",
      "[SoftImpute] Iter 11: observed MAE=158.878461 rank=4\n",
      "[SoftImpute] Iter 12: observed MAE=158.880350 rank=4\n",
      "[SoftImpute] Iter 13: observed MAE=158.881839 rank=4\n",
      "[SoftImpute] Iter 14: observed MAE=158.883018 rank=4\n",
      "[SoftImpute] Iter 15: observed MAE=158.883956 rank=4\n",
      "[SoftImpute] Iter 16: observed MAE=158.884711 rank=4\n",
      "[SoftImpute] Iter 17: observed MAE=158.885317 rank=4\n",
      "[SoftImpute] Iter 18: observed MAE=158.885807 rank=4\n",
      "[SoftImpute] Iter 19: observed MAE=158.886205 rank=4\n",
      "[SoftImpute] Iter 20: observed MAE=158.886531 rank=4\n",
      "[SoftImpute] Iter 21: observed MAE=158.886798 rank=4\n",
      "[SoftImpute] Iter 22: observed MAE=158.887019 rank=4\n",
      "[SoftImpute] Iter 23: observed MAE=158.887201 rank=4\n",
      "[SoftImpute] Iter 24: observed MAE=158.887353 rank=4\n",
      "[SoftImpute] Iter 25: observed MAE=158.887479 rank=4\n",
      "[SoftImpute] Iter 26: observed MAE=158.887587 rank=4\n",
      "[SoftImpute] Iter 27: observed MAE=158.887678 rank=4\n",
      "[SoftImpute] Iter 28: observed MAE=158.887756 rank=4\n",
      "[SoftImpute] Iter 29: observed MAE=158.887823 rank=4\n",
      "[SoftImpute] Iter 30: observed MAE=158.887880 rank=4\n",
      "[SoftImpute] Iter 31: observed MAE=158.887930 rank=4\n",
      "[SoftImpute] Iter 32: observed MAE=158.887973 rank=4\n",
      "[SoftImpute] Iter 33: observed MAE=158.888011 rank=4\n",
      "[SoftImpute] Iter 34: observed MAE=158.888044 rank=4\n",
      "[SoftImpute] Iter 35: observed MAE=158.888073 rank=4\n",
      "[SoftImpute] Iter 36: observed MAE=158.888100 rank=4\n",
      "[SoftImpute] Iter 37: observed MAE=158.888123 rank=4\n",
      "[SoftImpute] Iter 38: observed MAE=158.888144 rank=4\n",
      "[SoftImpute] Iter 39: observed MAE=158.888162 rank=4\n",
      "[SoftImpute] Iter 40: observed MAE=158.888179 rank=4\n",
      "[SoftImpute] Iter 41: observed MAE=158.888194 rank=4\n",
      "[SoftImpute] Iter 42: observed MAE=158.888208 rank=4\n",
      "[SoftImpute] Iter 43: observed MAE=158.888220 rank=4\n",
      "[SoftImpute] Iter 44: observed MAE=158.888232 rank=4\n",
      "[SoftImpute] Iter 45: observed MAE=158.888242 rank=4\n",
      "[SoftImpute] Iter 46: observed MAE=158.888252 rank=4\n",
      "[SoftImpute] Iter 47: observed MAE=158.888260 rank=4\n",
      "[SoftImpute] Iter 48: observed MAE=158.888268 rank=4\n",
      "[SoftImpute] Iter 49: observed MAE=158.888276 rank=4\n",
      "[SoftImpute] Iter 50: observed MAE=158.888282 rank=4\n",
      "[SoftImpute] Iter 51: observed MAE=158.888288 rank=4\n",
      "[SoftImpute] Iter 52: observed MAE=158.888294 rank=4\n",
      "[SoftImpute] Iter 53: observed MAE=158.888300 rank=4\n",
      "[SoftImpute] Iter 54: observed MAE=158.888305 rank=4\n",
      "[SoftImpute] Iter 55: observed MAE=158.888310 rank=4\n",
      "[SoftImpute] Iter 56: observed MAE=158.888314 rank=4\n",
      "[SoftImpute] Iter 57: observed MAE=158.888319 rank=4\n",
      "[SoftImpute] Iter 58: observed MAE=158.888322 rank=4\n",
      "[SoftImpute] Iter 59: observed MAE=158.888326 rank=4\n",
      "[SoftImpute] Iter 60: observed MAE=158.888330 rank=4\n",
      "[SoftImpute] Iter 61: observed MAE=158.888333 rank=4\n",
      "[SoftImpute] Iter 62: observed MAE=158.888336 rank=4\n",
      "[SoftImpute] Stopped after iteration 62 for lambda=154681.188376\n"
     ]
    }
   ],
   "source": [
    "#impute test set\n",
    "\n",
    "df_test_numeric = df_test.select_dtypes(include=[np.float]).as_matrix()\n",
    "df_test_complete1=pd.DataFrame(SoftImpute().fit_transform(df_test_numeric), columns=df_test_numeric_for_labels.columns, index =df_test_numeric_for_labels.index)"
   ]
  },
  {
   "cell_type": "code",
   "execution_count": 22,
   "metadata": {},
   "outputs": [
    {
     "data": {
      "text/html": [
       "<div>\n",
       "<style scoped>\n",
       "    .dataframe tbody tr th:only-of-type {\n",
       "        vertical-align: middle;\n",
       "    }\n",
       "\n",
       "    .dataframe tbody tr th {\n",
       "        vertical-align: top;\n",
       "    }\n",
       "\n",
       "    .dataframe thead th {\n",
       "        text-align: right;\n",
       "    }\n",
       "</style>\n",
       "<table border=\"1\" class=\"dataframe\">\n",
       "  <thead>\n",
       "    <tr style=\"text-align: right;\">\n",
       "      <th></th>\n",
       "      <th>Weekly_Sales</th>\n",
       "      <th>Temperature</th>\n",
       "      <th>Fuel_Price</th>\n",
       "      <th>MarkDown1</th>\n",
       "      <th>MarkDown2</th>\n",
       "      <th>MarkDown3</th>\n",
       "      <th>MarkDown4</th>\n",
       "      <th>MarkDown5</th>\n",
       "      <th>CPI</th>\n",
       "      <th>Unemployment</th>\n",
       "    </tr>\n",
       "  </thead>\n",
       "  <tbody>\n",
       "    <tr>\n",
       "      <th>0</th>\n",
       "      <td>24924.50</td>\n",
       "      <td>42.31</td>\n",
       "      <td>2.572</td>\n",
       "      <td>1875.338948</td>\n",
       "      <td>1311.898266</td>\n",
       "      <td>1034.459570</td>\n",
       "      <td>691.021254</td>\n",
       "      <td>1583.389043</td>\n",
       "      <td>211.096358</td>\n",
       "      <td>8.106</td>\n",
       "    </tr>\n",
       "    <tr>\n",
       "      <th>1</th>\n",
       "      <td>46039.49</td>\n",
       "      <td>38.51</td>\n",
       "      <td>2.548</td>\n",
       "      <td>3455.384519</td>\n",
       "      <td>2418.206570</td>\n",
       "      <td>1908.420652</td>\n",
       "      <td>1275.258195</td>\n",
       "      <td>2916.241549</td>\n",
       "      <td>211.242170</td>\n",
       "      <td>8.106</td>\n",
       "    </tr>\n",
       "    <tr>\n",
       "      <th>2</th>\n",
       "      <td>41595.55</td>\n",
       "      <td>39.93</td>\n",
       "      <td>2.514</td>\n",
       "      <td>3122.852871</td>\n",
       "      <td>2185.374002</td>\n",
       "      <td>1724.486474</td>\n",
       "      <td>1152.298193</td>\n",
       "      <td>2635.734995</td>\n",
       "      <td>211.289143</td>\n",
       "      <td>8.106</td>\n",
       "    </tr>\n",
       "    <tr>\n",
       "      <th>3</th>\n",
       "      <td>19403.54</td>\n",
       "      <td>46.63</td>\n",
       "      <td>2.561</td>\n",
       "      <td>1462.252977</td>\n",
       "      <td>1022.654518</td>\n",
       "      <td>805.957900</td>\n",
       "      <td>538.262932</td>\n",
       "      <td>1234.936556</td>\n",
       "      <td>211.319643</td>\n",
       "      <td>8.106</td>\n",
       "    </tr>\n",
       "    <tr>\n",
       "      <th>4</th>\n",
       "      <td>21827.90</td>\n",
       "      <td>46.50</td>\n",
       "      <td>2.625</td>\n",
       "      <td>1643.673312</td>\n",
       "      <td>1149.679488</td>\n",
       "      <td>906.304666</td>\n",
       "      <td>605.343469</td>\n",
       "      <td>1387.974890</td>\n",
       "      <td>211.350143</td>\n",
       "      <td>8.106</td>\n",
       "    </tr>\n",
       "  </tbody>\n",
       "</table>\n",
       "</div>"
      ],
      "text/plain": [
       "   Weekly_Sales  Temperature  Fuel_Price    MarkDown1    MarkDown2  \\\n",
       "0      24924.50        42.31       2.572  1875.338948  1311.898266   \n",
       "1      46039.49        38.51       2.548  3455.384519  2418.206570   \n",
       "2      41595.55        39.93       2.514  3122.852871  2185.374002   \n",
       "3      19403.54        46.63       2.561  1462.252977  1022.654518   \n",
       "4      21827.90        46.50       2.625  1643.673312  1149.679488   \n",
       "\n",
       "     MarkDown3    MarkDown4    MarkDown5         CPI  Unemployment  \n",
       "0  1034.459570   691.021254  1583.389043  211.096358         8.106  \n",
       "1  1908.420652  1275.258195  2916.241549  211.242170         8.106  \n",
       "2  1724.486474  1152.298193  2635.734995  211.289143         8.106  \n",
       "3   805.957900   538.262932  1234.936556  211.319643         8.106  \n",
       "4   906.304666   605.343469  1387.974890  211.350143         8.106  "
      ]
     },
     "execution_count": 22,
     "metadata": {},
     "output_type": "execute_result"
    }
   ],
   "source": [
    "df_complete1.head()"
   ]
  },
  {
   "cell_type": "code",
   "execution_count": 23,
   "metadata": {},
   "outputs": [
    {
     "data": {
      "text/html": [
       "<div>\n",
       "<style scoped>\n",
       "    .dataframe tbody tr th:only-of-type {\n",
       "        vertical-align: middle;\n",
       "    }\n",
       "\n",
       "    .dataframe tbody tr th {\n",
       "        vertical-align: top;\n",
       "    }\n",
       "\n",
       "    .dataframe thead th {\n",
       "        text-align: right;\n",
       "    }\n",
       "</style>\n",
       "<table border=\"1\" class=\"dataframe\">\n",
       "  <thead>\n",
       "    <tr style=\"text-align: right;\">\n",
       "      <th></th>\n",
       "      <th>Weekly_Sales</th>\n",
       "      <th>Temperature</th>\n",
       "      <th>Fuel_Price</th>\n",
       "      <th>MarkDown1</th>\n",
       "      <th>MarkDown2</th>\n",
       "      <th>MarkDown3</th>\n",
       "      <th>MarkDown4</th>\n",
       "      <th>MarkDown5</th>\n",
       "      <th>CPI</th>\n",
       "      <th>Unemployment</th>\n",
       "    </tr>\n",
       "  </thead>\n",
       "  <tbody>\n",
       "    <tr>\n",
       "      <th>0</th>\n",
       "      <td>17147.44</td>\n",
       "      <td>75.55</td>\n",
       "      <td>3.749</td>\n",
       "      <td>21290.13</td>\n",
       "      <td>161.163682</td>\n",
       "      <td>69.89</td>\n",
       "      <td>4977.35</td>\n",
       "      <td>3261.04</td>\n",
       "      <td>221.671800</td>\n",
       "      <td>7.143</td>\n",
       "    </tr>\n",
       "    <tr>\n",
       "      <th>1</th>\n",
       "      <td>18164.20</td>\n",
       "      <td>73.77</td>\n",
       "      <td>3.688</td>\n",
       "      <td>8351.40</td>\n",
       "      <td>87.812990</td>\n",
       "      <td>10.52</td>\n",
       "      <td>2443.14</td>\n",
       "      <td>3127.88</td>\n",
       "      <td>221.725663</td>\n",
       "      <td>7.143</td>\n",
       "    </tr>\n",
       "    <tr>\n",
       "      <th>2</th>\n",
       "      <td>18517.79</td>\n",
       "      <td>70.33</td>\n",
       "      <td>3.630</td>\n",
       "      <td>6154.14</td>\n",
       "      <td>83.533406</td>\n",
       "      <td>45.11</td>\n",
       "      <td>1675.49</td>\n",
       "      <td>5508.18</td>\n",
       "      <td>221.742674</td>\n",
       "      <td>7.143</td>\n",
       "    </tr>\n",
       "    <tr>\n",
       "      <th>3</th>\n",
       "      <td>16963.55</td>\n",
       "      <td>77.22</td>\n",
       "      <td>3.561</td>\n",
       "      <td>4039.39</td>\n",
       "      <td>62.723195</td>\n",
       "      <td>745.19</td>\n",
       "      <td>1429.96</td>\n",
       "      <td>3631.13</td>\n",
       "      <td>221.744944</td>\n",
       "      <td>7.143</td>\n",
       "    </tr>\n",
       "    <tr>\n",
       "      <th>4</th>\n",
       "      <td>16065.49</td>\n",
       "      <td>77.95</td>\n",
       "      <td>3.501</td>\n",
       "      <td>6086.21</td>\n",
       "      <td>12.000000</td>\n",
       "      <td>370.51</td>\n",
       "      <td>148.75</td>\n",
       "      <td>3690.85</td>\n",
       "      <td>221.747214</td>\n",
       "      <td>7.143</td>\n",
       "    </tr>\n",
       "  </tbody>\n",
       "</table>\n",
       "</div>"
      ],
      "text/plain": [
       "   Weekly_Sales  Temperature  Fuel_Price  MarkDown1   MarkDown2  MarkDown3  \\\n",
       "0      17147.44        75.55       3.749   21290.13  161.163682      69.89   \n",
       "1      18164.20        73.77       3.688    8351.40   87.812990      10.52   \n",
       "2      18517.79        70.33       3.630    6154.14   83.533406      45.11   \n",
       "3      16963.55        77.22       3.561    4039.39   62.723195     745.19   \n",
       "4      16065.49        77.95       3.501    6086.21   12.000000     370.51   \n",
       "\n",
       "   MarkDown4  MarkDown5         CPI  Unemployment  \n",
       "0    4977.35    3261.04  221.671800         7.143  \n",
       "1    2443.14    3127.88  221.725663         7.143  \n",
       "2    1675.49    5508.18  221.742674         7.143  \n",
       "3    1429.96    3631.13  221.744944         7.143  \n",
       "4     148.75    3690.85  221.747214         7.143  "
      ]
     },
     "execution_count": 23,
     "metadata": {},
     "output_type": "execute_result"
    }
   ],
   "source": [
    "df_test_complete1.head()"
   ]
  },
  {
   "cell_type": "markdown",
   "metadata": {},
   "source": [
    "#### Training DataSet A - dropped MarkDown"
   ]
  },
  {
   "cell_type": "code",
   "execution_count": 24,
   "metadata": {},
   "outputs": [
    {
     "name": "stdout",
     "output_type": "stream",
     "text": [
      "(344667, 157)\n"
     ]
    }
   ],
   "source": [
    "#DataSet A - dropping MarkDown due to having over 50% of data missing\n",
    "df_drop = df.drop(columns=['MarkDown1', 'MarkDown2', 'MarkDown3', 'MarkDown4', 'MarkDown5'])\n",
    "\n",
    "\n",
    "#dummy coding for categorical vars\n",
    "df_encode = pd.get_dummies(df_drop)\n",
    "print(df_encode.shape)"
   ]
  },
  {
   "cell_type": "code",
   "execution_count": 25,
   "metadata": {},
   "outputs": [
    {
     "name": "stdout",
     "output_type": "stream",
     "text": [
      "(344667, 156)\n",
      "<class 'pandas.core.frame.DataFrame'>\n",
      "(344667, 1)\n",
      "<class 'pandas.core.frame.DataFrame'>\n"
     ]
    }
   ],
   "source": [
    "#create dependent and independent vars\n",
    "X = df_encode .drop(columns=['Weekly_Sales'])\n",
    "y = df_encode [['Weekly_Sales']]\n",
    "\n",
    "print(X.shape)\n",
    "print(type(X))\n",
    "\n",
    "print(y.shape)\n",
    "print(type(y))"
   ]
  },
  {
   "cell_type": "markdown",
   "metadata": {},
   "source": [
    "#### Training DataSet B - imputed Markdown"
   ]
  },
  {
   "cell_type": "code",
   "execution_count": 26,
   "metadata": {},
   "outputs": [],
   "source": [
    "#DataSet B - MarkDown values imputed using SoftImpute\n",
    "#Drop continuous vars from original dataframe then reaatach the dataframe that has the imputed values\n",
    "df_drop_setB = df.drop(columns=['Weekly_Sales', 'Temperature', 'Fuel_Price', 'MarkDown1', 'MarkDown2', \n",
    "                                'MarkDown3', 'MarkDown4', 'MarkDown5', 'CPI', 'Unemployment'])\n",
    "\n",
    "#df_complete1 is the dataframe w/ imputed vars\n",
    "df_complete = df_complete1.join(df_drop_setB)"
   ]
  },
  {
   "cell_type": "code",
   "execution_count": 27,
   "metadata": {},
   "outputs": [
    {
     "name": "stdout",
     "output_type": "stream",
     "text": [
      "(344667, 162)\n"
     ]
    }
   ],
   "source": [
    "#dummy coding for categorical vars\n",
    "df_B = pd.get_dummies(df_complete)\n",
    "print(df_B.shape)"
   ]
  },
  {
   "cell_type": "code",
   "execution_count": 28,
   "metadata": {},
   "outputs": [
    {
     "name": "stdout",
     "output_type": "stream",
     "text": [
      "(344667, 161)\n",
      "<class 'pandas.core.frame.DataFrame'>\n",
      "(344667, 1)\n",
      "<class 'pandas.core.frame.DataFrame'>\n"
     ]
    }
   ],
   "source": [
    "#create dependent and independent vars\n",
    "X1 = df_B .drop(columns=['Weekly_Sales'])\n",
    "y1 = df_B [['Weekly_Sales']]\n",
    "\n",
    "print(X1.shape)\n",
    "print(type(X1))\n",
    "\n",
    "print(y1.shape)\n",
    "print(type(y1))"
   ]
  },
  {
   "cell_type": "code",
   "execution_count": 29,
   "metadata": {},
   "outputs": [
    {
     "name": "stdout",
     "output_type": "stream",
     "text": [
      "(275733, 156)\n",
      "(275733, 1)\n",
      "(275733, 161)\n",
      "(275733, 1)\n"
     ]
    }
   ],
   "source": [
    "#test/train split A\n",
    "X_train, X_test, y_train, y_test = train_test_split(X, y, test_size=0.2, random_state=42)\n",
    "\n",
    "print(X_train.shape)\n",
    "print(y_train.shape)\n",
    "\n",
    "\n",
    "#test/train split B\n",
    "X_train1, X_test1, y_train1, y_test1 = train_test_split(X1, y1, test_size=0.2, random_state=42)\n",
    "\n",
    "print(X_train1.shape)\n",
    "print(y_train1.shape)"
   ]
  },
  {
   "cell_type": "markdown",
   "metadata": {},
   "source": [
    "# Supervised - Regression"
   ]
  },
  {
   "cell_type": "code",
   "execution_count": 30,
   "metadata": {},
   "outputs": [
    {
     "name": "stdout",
     "output_type": "stream",
     "text": [
      "                            OLS Regression Results                            \n",
      "==============================================================================\n",
      "Dep. Variable:           Weekly_Sales   R-squared:                       0.686\n",
      "Model:                            OLS   Adj. R-squared:                  0.686\n",
      "Method:                 Least Squares   F-statistic:                     3985.\n",
      "Date:                Tue, 29 Oct 2019   Prob (F-statistic):               0.00\n",
      "Time:                        15:21:14   Log-Likelihood:            -2.9994e+06\n",
      "No. Observations:              275733   AIC:                         5.999e+06\n",
      "Df Residuals:                  275581   BIC:                         6.001e+06\n",
      "Df Model:                         151                                         \n",
      "Covariance Type:            nonrobust                                         \n",
      "=============================================================================================\n",
      "                                coef    std err          t      P>|t|      [0.025      0.975]\n",
      "---------------------------------------------------------------------------------------------\n",
      "const                      1.199e+04   1780.938      6.734      0.000    8502.400    1.55e+04\n",
      "Temperature                 -41.3177      4.792     -8.622      0.000     -50.710     -31.925\n",
      "Fuel_Price                 7298.8343    200.062     36.483      0.000    6906.719    7690.950\n",
      "MarkDown1                     0.8069      0.011     71.127      0.000       0.785       0.829\n",
      "MarkDown2                     0.1777      0.005     34.621      0.000       0.168       0.188\n",
      "MarkDown3                     0.2756      0.005     60.499      0.000       0.267       0.284\n",
      "MarkDown4                    -0.7012      0.014    -51.284      0.000      -0.728      -0.674\n",
      "MarkDown5                     1.1160      0.011    102.731      0.000       1.095       1.137\n",
      "CPI                        -308.6377     26.160    -11.798      0.000    -359.911    -257.364\n",
      "Unemployment               -286.2272     78.431     -3.649      0.000    -439.949    -132.505\n",
      "Size                          0.0828      0.001     84.535      0.000       0.081       0.085\n",
      "IsHoliday_False            5998.3085    893.096      6.716      0.000    4247.866    7748.751\n",
      "IsHoliday_True             5994.6815    891.616      6.723      0.000    4247.139    7742.224\n",
      "Type_A                     4785.7279    670.487      7.138      0.000    3471.593    6099.863\n",
      "Type_B                     2772.2816    545.317      5.084      0.000    1703.476    3841.088\n",
      "Type_C                     4434.9804    581.441      7.628      0.000    3295.371    5574.590\n",
      "Store_1                     1.89e+04   1126.522     16.777      0.000    1.67e+04    2.11e+04\n",
      "Store_10                  -1714.9334   1027.133     -1.670      0.095   -3728.087     298.220\n",
      "Store_11                   1.245e+04   1196.173     10.412      0.000    1.01e+04    1.48e+04\n",
      "Store_12                  -1.095e+04   1159.981     -9.441      0.000   -1.32e+04   -8677.618\n",
      "Store_13                  -1.066e+04   1176.421     -9.063      0.000    -1.3e+04   -8355.583\n",
      "Store_14                   9671.9911    355.649     27.195      0.000    8974.929    1.04e+04\n",
      "Store_15                  -1.567e+04    846.458    -18.507      0.000   -1.73e+04    -1.4e+04\n",
      "Store_16                   8375.8555    763.997     10.963      0.000    6878.443    9873.268\n",
      "Store_17                  -1.019e+04    984.509    -10.354      0.000   -1.21e+04   -8263.852\n",
      "Store_18                  -8639.4618    861.872    -10.024      0.000   -1.03e+04   -6950.217\n",
      "Store_19                  -1.505e+04   1011.346    -14.880      0.000    -1.7e+04   -1.31e+04\n",
      "Store_2                    1.832e+04   1094.523     16.741      0.000    1.62e+04    2.05e+04\n",
      "Store_20                   1.655e+04    937.418     17.650      0.000    1.47e+04    1.84e+04\n",
      "Store_21                   1.212e+04   1254.016      9.668      0.000    9665.846    1.46e+04\n",
      "Store_22                  -8946.8609    750.258    -11.925      0.000   -1.04e+04   -7476.375\n",
      "Store_23                  -5587.1457    841.565     -6.639      0.000   -7236.590   -3937.702\n",
      "Store_24                  -1.611e+04   1016.402    -15.851      0.000   -1.81e+04   -1.41e+04\n",
      "Store_25                   8232.3965   1103.478      7.460      0.000    6069.610    1.04e+04\n",
      "Store_26                   -1.51e+04    990.817    -15.236      0.000    -1.7e+04   -1.32e+04\n",
      "Store_27                  -9650.2668    912.175    -10.579      0.000   -1.14e+04   -7862.429\n",
      "Store_28                  -1.668e+04   1318.584    -12.650      0.000   -1.93e+04   -1.41e+04\n",
      "Store_29                  -1.255e+04    873.964    -14.359      0.000   -1.43e+04   -1.08e+04\n",
      "Store_3                    1.816e+04   1401.239     12.960      0.000    1.54e+04    2.09e+04\n",
      "Store_30                   1.422e+04   1284.189     11.074      0.000    1.17e+04    1.67e+04\n",
      "Store_31                   1.159e+04   1094.095     10.596      0.000    9448.578    1.37e+04\n",
      "Store_32                   2571.4075    540.617      4.756      0.000    1511.814    3631.001\n",
      "Store_33                  -1.791e+04   1131.786    -15.828      0.000   -2.01e+04   -1.57e+04\n",
      "Store_34                  -1.558e+04   1196.249    -13.026      0.000   -1.79e+04   -1.32e+04\n",
      "Store_35                  -8471.0855    754.442    -11.228      0.000   -9949.772   -6992.399\n",
      "Store_36                    1.31e+04   1142.718     11.465      0.000    1.09e+04    1.53e+04\n",
      "Store_37                   1.581e+04   1256.724     12.580      0.000    1.33e+04    1.83e+04\n",
      "Store_38                  -1.416e+04   1123.587    -12.604      0.000   -1.64e+04    -1.2e+04\n",
      "Store_39                   1.278e+04   1073.311     11.910      0.000    1.07e+04    1.49e+04\n",
      "Store_4                   -7026.5088   1168.035     -6.016      0.000   -9315.825   -4737.192\n",
      "Store_40                  -1.646e+04    979.052    -16.810      0.000   -1.84e+04   -1.45e+04\n",
      "Store_41                   3701.4044    568.413      6.512      0.000    2587.330    4815.479\n",
      "Store_42                  -1.149e+04   1005.631    -11.425      0.000   -1.35e+04   -9517.975\n",
      "Store_43                   1.612e+04   1055.962     15.269      0.000    1.41e+04    1.82e+04\n",
      "Store_44                  -1.607e+04    990.680    -16.220      0.000    -1.8e+04   -1.41e+04\n",
      "Store_45                   3521.5561    512.748      6.868      0.000    2516.584    4526.528\n",
      "Store_5                    1.571e+04   1344.198     11.684      0.000    1.31e+04    1.83e+04\n",
      "Store_6                    1.465e+04   1160.315     12.623      0.000    1.24e+04    1.69e+04\n",
      "Store_7                    7621.3419    734.209     10.380      0.000    6182.312    9060.372\n",
      "Store_8                    1.072e+04   1240.945      8.639      0.000    8288.710    1.32e+04\n",
      "Store_9                    1.175e+04   1390.871      8.449      0.000    9024.797    1.45e+04\n",
      "Dept_1                     6802.3636    215.404     31.580      0.000    6380.177    7224.550\n",
      "Dept_10                    5185.5269    215.590     24.053      0.000    4762.977    5608.077\n",
      "Dept_11                    1675.2059    215.827      7.762      0.000    1252.191    2098.221\n",
      "Dept_12                   -7487.0810    217.362    -34.445      0.000   -7913.105   -7061.057\n",
      "Dept_13                    1.621e+04    214.247     75.640      0.000    1.58e+04    1.66e+04\n",
      "Dept_14                    2544.7121    216.269     11.766      0.000    2120.831    2968.593\n",
      "Dept_16                     849.1431    215.913      3.933      0.000     425.960    1272.327\n",
      "Dept_17                   -1921.9587    215.730     -8.909      0.000   -2344.783   -1499.134\n",
      "Dept_18                   -4252.6697    235.834    -18.032      0.000   -4714.899   -3790.441\n",
      "Dept_19                   -1.224e+04    262.168    -46.687      0.000   -1.28e+04   -1.17e+04\n",
      "Dept_2                     2.799e+04    216.578    129.234      0.000    2.76e+04    2.84e+04\n",
      "Dept_20                   -6724.1101    222.104    -30.275      0.000   -7159.427   -6288.793\n",
      "Dept_21                   -6507.0689    216.078    -30.115      0.000   -6930.575   -6083.563\n",
      "Dept_22                   -2776.9378    230.455    -12.050      0.000   -3228.624   -2325.251\n",
      "Dept_23                    9387.7013    226.330     41.478      0.000    8944.101    9831.301\n",
      "Dept_24                   -7172.9823    232.795    -30.813      0.000   -7629.253   -6716.711\n",
      "Dept_25                   -3178.6045    215.522    -14.748      0.000   -3601.022   -2756.187\n",
      "Dept_26                   -5143.5148    227.074    -22.651      0.000   -5588.573   -4698.456\n",
      "Dept_27                   -1.105e+04    230.383    -47.976      0.000   -1.15e+04   -1.06e+04\n",
      "Dept_28                   -1.105e+04    220.224    -50.172      0.000   -1.15e+04   -1.06e+04\n",
      "Dept_29                   -8035.9078    233.501    -34.415      0.000   -8493.563   -7578.252\n",
      "Dept_3                    -1113.7675    215.677     -5.164      0.000   -1536.489    -691.046\n",
      "Dept_30                   -9375.7277    234.628    -39.960      0.000   -9835.593   -8915.863\n",
      "Dept_31                   -9759.6782    221.597    -44.042      0.000   -1.02e+04   -9325.354\n",
      "Dept_32                   -5628.5835    223.543    -25.179      0.000   -6066.722   -5190.445\n",
      "Dept_33                   -7105.6738    233.514    -30.429      0.000   -7563.356   -6647.992\n",
      "Dept_34                     857.8760    233.966      3.667      0.000     399.309    1316.443\n",
      "Dept_35                   -1.039e+04    233.393    -44.504      0.000   -1.08e+04   -9929.445\n",
      "Dept_36                   -1.136e+04    235.363    -48.253      0.000   -1.18e+04   -1.09e+04\n",
      "Dept_37                   -1.381e+04    325.997    -42.361      0.000   -1.44e+04   -1.32e+04\n",
      "Dept_38                    4.397e+04    217.372    202.276      0.000    4.35e+04    4.44e+04\n",
      "Dept_39                   -2.067e+04   4789.824     -4.316      0.000   -3.01e+04   -1.13e+04\n",
      "Dept_4                     1.202e+04    216.240     55.577      0.000    1.16e+04    1.24e+04\n",
      "Dept_40                    2.888e+04    216.584    133.355      0.000    2.85e+04    2.93e+04\n",
      "Dept_41                   -1.115e+04    231.826    -48.100      0.000   -1.16e+04   -1.07e+04\n",
      "Dept_42                   -6547.0503    216.411    -30.253      0.000   -6971.210   -6122.891\n",
      "Dept_43                   -1.776e+04   4480.256     -3.965      0.000   -2.65e+04   -8982.357\n",
      "Dept_44                   -8633.7514    233.067    -37.044      0.000   -9090.557   -8176.946\n",
      "Dept_45                   -1.376e+04    351.205    -39.184      0.000   -1.45e+04   -1.31e+04\n",
      "Dept_46                    6715.0601    216.092     31.075      0.000    6291.526    7138.594\n",
      "Dept_47                   -1.419e+04    607.218    -23.369      0.000   -1.54e+04    -1.3e+04\n",
      "Dept_48                   -1.564e+04    391.992    -39.888      0.000   -1.64e+04   -1.49e+04\n",
      "Dept_49                   -6832.4777    258.567    -26.424      0.000   -7339.262   -6325.693\n",
      "Dept_5                     9083.8125    217.093     41.843      0.000    8658.316    9509.309\n",
      "Dept_50                   -1.497e+04    408.870    -36.617      0.000   -1.58e+04   -1.42e+04\n",
      "Dept_51                   -1.218e+04    396.596    -30.705      0.000    -1.3e+04   -1.14e+04\n",
      "Dept_52                   -9544.9389    218.708    -43.642      0.000   -9973.600   -9116.278\n",
      "Dept_54                   -1.348e+04    242.063    -55.682      0.000    -1.4e+04    -1.3e+04\n",
      "Dept_55                   -2026.1200    228.175     -8.880      0.000   -2473.337   -1578.903\n",
      "Dept_56                   -8706.7247    223.403    -38.973      0.000   -9144.587   -8268.862\n",
      "Dept_58                   -1.122e+04    252.182    -44.503      0.000   -1.17e+04   -1.07e+04\n",
      "Dept_59                   -1.079e+04    219.899    -49.069      0.000   -1.12e+04   -1.04e+04\n",
      "Dept_6                    -7285.0976    222.622    -32.724      0.000   -7721.430   -6848.765\n",
      "Dept_60                   -1.071e+04    228.727    -46.842      0.000   -1.12e+04   -1.03e+04\n",
      "Dept_65                    2.993e+04   1325.857     22.573      0.000    2.73e+04    3.25e+04\n",
      "Dept_67                   -4441.9806    215.540    -20.609      0.000   -4864.434   -4019.527\n",
      "Dept_7                     1.137e+04    215.121     52.876      0.000     1.1e+04    1.18e+04\n",
      "Dept_71                   -7885.7768    233.377    -33.790      0.000   -8343.190   -7428.364\n",
      "Dept_72                    3.557e+04    222.822    159.625      0.000    3.51e+04     3.6e+04\n",
      "Dept_74                    1293.6115    215.349      6.007      0.000     871.533    1715.690\n",
      "Dept_77                   -2.208e+04   1266.313    -17.433      0.000   -2.46e+04   -1.96e+04\n",
      "Dept_78                   -1.484e+04    959.971    -15.454      0.000   -1.67e+04    -1.3e+04\n",
      "Dept_79                    8670.2013    214.826     40.359      0.000    8249.148    9091.254\n",
      "Dept_8                     1.582e+04    217.222     72.813      0.000    1.54e+04    1.62e+04\n",
      "Dept_80                    -708.9699    225.473     -3.144      0.002   -1150.891    -267.049\n",
      "Dept_81                    2669.4303    215.558     12.384      0.000    2246.942    3091.919\n",
      "Dept_82                    2658.3913    214.787     12.377      0.000    2237.414    3079.369\n",
      "Dept_83                   -8669.1705    223.784    -38.739      0.000   -9107.781   -8230.560\n",
      "Dept_85                   -9731.6074    222.443    -43.749      0.000   -1.02e+04   -9295.626\n",
      "Dept_87                     452.6528    215.260      2.103      0.035      30.750     874.556\n",
      "Dept_9                     6132.4724    217.032     28.256      0.000    5707.096    6557.849\n",
      "Dept_90                    2.955e+04    216.844    136.283      0.000    2.91e+04       3e+04\n",
      "Dept_91                    1.925e+04    215.752     89.221      0.000    1.88e+04    1.97e+04\n",
      "Dept_92                    5.601e+04    218.562    256.249      0.000    5.56e+04    5.64e+04\n",
      "Dept_93                    1.224e+04    224.299     54.548      0.000    1.18e+04    1.27e+04\n",
      "Dept_94                     1.83e+04    228.969     79.935      0.000    1.79e+04    1.88e+04\n",
      "Dept_95                    5.087e+04    217.826    233.541      0.000    5.04e+04    5.13e+04\n",
      "Dept_96                    2577.7790    244.450     10.545      0.000    2098.663    3056.895\n",
      "Dept_97                    1325.4511    219.456      6.040      0.000     895.323    1755.580\n",
      "Dept_98                   -5389.4561    225.574    -23.892      0.000   -5831.575   -4947.337\n",
      "Dept_99                   -1.894e+04    657.500    -28.802      0.000   -2.02e+04   -1.76e+04\n",
      "Month_1                    2641.8769    183.600     14.389      0.000    2282.027    3001.727\n",
      "Month_10                   1302.7157    194.128      6.711      0.000     922.230    1683.201\n",
      "Month_11                  -1805.0762    210.262     -8.585      0.000   -2217.185   -1392.968\n",
      "Month_12                   -129.7489    222.915     -0.582      0.561    -566.655     307.158\n",
      "Month_2                     918.8601    176.210      5.215      0.000     573.494    1264.226\n",
      "Month_3                    1220.4881    160.198      7.619      0.000     906.504    1534.472\n",
      "Month_4                     671.0971    163.391      4.107      0.000     350.855     991.339\n",
      "Month_5                    -556.2989    188.552     -2.950      0.003    -925.856    -186.742\n",
      "Month_6                    1679.7996    193.585      8.677      0.000    1300.379    2059.220\n",
      "Month_7                    2261.8776    200.708     11.270      0.000    1868.496    2655.260\n",
      "Month_8                    2095.7426    209.908      9.984      0.000    1684.329    2507.157\n",
      "Month_9                    1691.6563    198.864      8.507      0.000    1301.888    2081.424\n",
      "Year_10                    1.056e+04    487.290     21.666      0.000    9602.413    1.15e+04\n",
      "Year_11                    4034.7476    595.094      6.780      0.000    2868.379    5201.116\n",
      "Year_12                   -2599.2449    729.602     -3.563      0.000   -4029.245   -1169.244\n",
      "part_of_month_1st_week     2354.1771    355.669      6.619      0.000    1657.076    3051.278\n",
      "part_of_month_2nd_week     2594.5941    357.703      7.253      0.000    1893.505    3295.683\n",
      "part_of_month_3rd_week     2921.9789    359.530      8.127      0.000    2217.311    3626.647\n",
      "part_of_month_4th_week     3540.4422    361.083      9.805      0.000    2832.730    4248.154\n",
      "part_of_month_last_3_days   581.7977    369.741      1.574      0.116    -142.884    1306.480\n",
      "==============================================================================\n",
      "Omnibus:                   248956.066   Durbin-Watson:                   1.994\n",
      "Prob(Omnibus):                  0.000   Jarque-Bera (JB):         80551309.745\n",
      "Skew:                           3.567   Prob(JB):                         0.00\n",
      "Kurtosis:                      86.429   Cond. No.                     3.15e+20\n",
      "==============================================================================\n",
      "\n",
      "Warnings:\n",
      "[1] Standard Errors assume that the covariance matrix of the errors is correctly specified.\n",
      "[2] The smallest eigenvalue is 6.22e-26. This might indicate that there are\n",
      "strong multicollinearity problems or that the design matrix is singular.\n"
     ]
    }
   ],
   "source": [
    "import statsmodels.api as sm\n",
    "#using statsmodel initially just to get some easy model statistics \n",
    "#ran once with DataSet A then once with Dataset B \n",
    "#imputed DataSet B had higher adjuste R^2 and all MarkDowns are significant\n",
    "#DataSetB with imputed \n",
    "X2 = sm.add_constant(X_train1)\n",
    "est = sm.OLS(y_train1, X2)\n",
    "est2 = est.fit()\n",
    "print(est2.summary())\n"
   ]
  },
  {
   "cell_type": "markdown",
   "metadata": {},
   "source": [
    "#### Regression"
   ]
  },
  {
   "cell_type": "code",
   "execution_count": 92,
   "metadata": {},
   "outputs": [
    {
     "name": "stdout",
     "output_type": "stream",
     "text": [
      "Linear Regression\n",
      "Neg Mean Squared Error: -164648749.22178832\n",
      "r2: 0.6856308193758042\n"
     ]
    }
   ],
   "source": [
    "# Regression model with 10 fold CV\n",
    "from sklearn.linear_model import LinearRegression\n",
    "from sklearn.model_selection import cross_validate\n",
    "from sklearn.metrics import r2_score\n",
    "from sklearn.metrics import mean_squared_error\n",
    "print(\"Linear Regression\")\n",
    "lr = LinearRegression()\n",
    "scoring = ['r2', 'neg_mean_squared_error']\n",
    "scores = cross_validate(lr, X_train1, y_train1, cv=10, scoring=scoring)\n",
    "print(\"Neg Mean Squared Error:\", scores['test_neg_mean_squared_error'].mean()) \n",
    "print(\"r2:\", scores['test_r2'].mean()) \n",
    "\n",
    "#lr = lr.fit(X_train1, y_train1)\n",
    "#y_pred = lr.predict(X_test1)"
   ]
  },
  {
   "cell_type": "code",
   "execution_count": 112,
   "metadata": {},
   "outputs": [
    {
     "name": "stdout",
     "output_type": "stream",
     "text": [
      "Residual sum of squares: 164642254.64\n"
     ]
    }
   ],
   "source": [
    "# Regression performance on 20% Test Split\n",
    "#CV produces similar results \n",
    "lr1 = lr.fit(X_train1, y_train1)\n",
    "print(\"Residual sum of squares: %.2f\"\n",
    "      % np.mean((lr1.predict(X_test1) - y_test1) ** 2))"
   ]
  },
  {
   "cell_type": "markdown",
   "metadata": {},
   "source": [
    "#### Knn-regression\n"
   ]
  },
  {
   "cell_type": "code",
   "execution_count": 106,
   "metadata": {},
   "outputs": [],
   "source": [
    "#find optimal K \n",
    "# I know this doesn't make a lot of sense to do this \n",
    "#then use CV, but it was taking way too long to \n",
    "#run on my pc trying to find best K while also using CV (20 simulations versus 200)\n",
    "\n",
    "error = []\n",
    "\n",
    "# Calculating error for K values between 1 and 20\n",
    "for i in range(1, 20):\n",
    "    knn = neighbors.KNeighborsRegressor(n_neighbors=i)\n",
    "    knn.fit(X_train1, y_train1)\n",
    "    pred_i = knn.predict(X_test1)\n",
    "    error.append(np.mean(pred_i - y_test1) ** 2)"
   ]
  },
  {
   "cell_type": "code",
   "execution_count": 108,
   "metadata": {},
   "outputs": [
    {
     "data": {
      "text/plain": [
       "Text(0, 0.5, 'Mean Error')"
      ]
     },
     "execution_count": 108,
     "metadata": {},
     "output_type": "execute_result"
    },
    {
     "data": {
      "image/png": "[encoded data removed]",
      "text/plain": [
       "<Figure size 864x432 with 1 Axes>"
      ]
     },
     "metadata": {
      "needs_background": "light"
     },
     "output_type": "display_data"
    }
   ],
   "source": [
    "#plot Ks to find optimal value, ends up at 8\n",
    "import matplotlib.pyplot as plt\n",
    "plt.figure(figsize=(12, 6))\n",
    "plt.plot(range(1, 20), error, color='red', linestyle='dashed', marker='o',\n",
    "         markerfacecolor='blue', markersize=10)\n",
    "plt.title('Error Rate K Value')\n",
    "plt.xlabel('K Value')\n",
    "plt.ylabel('Mean Error')"
   ]
  },
  {
   "cell_type": "code",
   "execution_count": 110,
   "metadata": {},
   "outputs": [
    {
     "name": "stdout",
     "output_type": "stream",
     "text": [
      "KNN-Regression\n",
      "Neg Mean Squared Error: -116902281.82887597\n",
      "r2: 0.7767700451059156\n"
     ]
    }
   ],
   "source": [
    "#KNN-Regression Model with CV with optimal K\n",
    "from sklearn import neighbors\n",
    "print(\"KNN-Regression\")\n",
    "knn_regression = neighbors.KNeighborsRegressor(n_neighbors=8, weights='uniform')\n",
    "scores1 = cross_validate(knn_regression, X_train1, y_train1, cv=10, scoring=scoring)\n",
    "print(\"Neg Mean Squared Error:\", scores1['test_neg_mean_squared_error'].mean()) \n",
    "print(\"r2:\", scores1['test_r2'].mean()) "
   ]
  },
  {
   "cell_type": "code",
   "execution_count": 222,
   "metadata": {},
   "outputs": [
    {
     "name": "stdout",
     "output_type": "stream",
     "text": [
      "Residual sum of squares: 116784190.27\n"
     ]
    }
   ],
   "source": [
    "#Knn-Regression performance on 20% Test split\n",
    "knnr = knn_regression.fit(X_train1, y_train1)\n",
    "print(\"Residual sum of squares: %.2f\"\n",
    "      % np.mean((knnr.predict(X_test1) - y_test1) ** 2))"
   ]
  },
  {
   "cell_type": "markdown",
   "metadata": {},
   "source": [
    "#### feature selection"
   ]
  },
  {
   "cell_type": "code",
   "execution_count": 30,
   "metadata": {},
   "outputs": [
    {
     "name": "stdout",
     "output_type": "stream",
     "text": [
      "(275733, 159)\n",
      "(275733, 1)\n"
     ]
    }
   ],
   "source": [
    "#Feature selection using p-values threshold .05\n",
    "#only Month_12 and part_of_month_last_3_days not significant\n",
    "#df_B is the original dataframe after feature engineering and imputation\n",
    "\n",
    "df_B1 = df_B.drop(columns=['Month_12' , 'part_of_month_last_3_days'])\n",
    "\n",
    "#create dependent and independent vars\n",
    "X_fs = df_B1 .drop(columns=['Weekly_Sales'])\n",
    "y_fs = df_B1 [['Weekly_Sales']]\n",
    "\n",
    "#test/train split for feature selection\n",
    "X_train2, X_test2, y_train2, y_test2 = train_test_split(X_fs, y_fs, test_size=0.2, random_state=42)\n",
    "\n",
    "print(X_train2.shape)\n",
    "print(y_train1.shape)"
   ]
  },
  {
   "cell_type": "code",
   "execution_count": 134,
   "metadata": {},
   "outputs": [
    {
     "name": "stdout",
     "output_type": "stream",
     "text": [
      "Residual sum of squares: 116784190.13\n",
      "R2: 0.7750542615808467\n"
     ]
    }
   ],
   "source": [
    "#Knn-Regression w/ feature selection using 20% Test set\n",
    "knnr1 = knn_regression.fit(X_train2, y_train2)\n",
    "print(\"Residual sum of squares: %.2f\"\n",
    "      % np.mean((knnr1.predict(X_test2) - y_test2) ** 2))\n",
    "print(\"R2:\", r2_score(y_test2, knn_regression.predict(X_test2)))"
   ]
  },
  {
   "cell_type": "code",
   "execution_count": 136,
   "metadata": {},
   "outputs": [
    {
     "name": "stdout",
     "output_type": "stream",
     "text": [
      "Residual sum of squares: 164642254.64\n",
      "R2: 0.6828716840542219\n"
     ]
    }
   ],
   "source": [
    "# Regression w/ feature selection using 20% Test Set\n",
    "lr2 = lr.fit(X_train2, y_train2)\n",
    "print(\"Residual sum of squares: %.2f\"\n",
    "      % np.mean((lr2.predict(X_test2) - y_test2) ** 2))\n",
    "print(\"R2:\", r2_score(y_test2, lr.predict(X_test2)))"
   ]
  },
  {
   "cell_type": "markdown",
   "metadata": {},
   "source": [
    "## Test Set (Separate CSV)"
   ]
  },
  {
   "cell_type": "code",
   "execution_count": 31,
   "metadata": {},
   "outputs": [
    {
     "name": "stdout",
     "output_type": "stream",
     "text": [
      "<class 'pandas.core.frame.DataFrame'>\n",
      "RangeIndex: 76903 entries, 0 to 76902\n",
      "Data columns (total 18 columns):\n",
      "Weekly_Sales     76903 non-null float64\n",
      "Temperature      76903 non-null float64\n",
      "Fuel_Price       76903 non-null float64\n",
      "MarkDown1        76903 non-null float64\n",
      "MarkDown2        76903 non-null float64\n",
      "MarkDown3        76903 non-null float64\n",
      "MarkDown4        76903 non-null float64\n",
      "MarkDown5        76903 non-null float64\n",
      "CPI              76903 non-null float64\n",
      "Unemployment     76903 non-null float64\n",
      "IsHoliday        76903 non-null category\n",
      "Type             76903 non-null category\n",
      "Size             76903 non-null int64\n",
      "Store            76903 non-null category\n",
      "Dept             76903 non-null category\n",
      "Month            76903 non-null category\n",
      "Year             76903 non-null category\n",
      "part_of_month    76903 non-null category\n",
      "dtypes: category(7), float64(10), int64(1)\n",
      "memory usage: 7.0 MB\n"
     ]
    }
   ],
   "source": [
    "#Formatting Test Set\n",
    "#df_test is the formatted completely separate csv files (from imputation section)\n",
    "#Drop continuous vars from original dataframe then re-aatach imputed conitinous vars (same process as training set)\n",
    "\n",
    "df_drop_test = df_test.drop(columns=['Weekly_Sales', 'Temperature', 'Fuel_Price', 'MarkDown1', 'MarkDown2', \n",
    "                                'MarkDown3', 'MarkDown4', 'MarkDown5', 'CPI', 'Unemployment'])\n",
    "\n",
    "#df_complete1 is the dataframe of continous vars after imputation (see imputation section)\n",
    "df_test_complete = df_test_complete1.join(df_drop_test)\n",
    "df_test_complete.info()"
   ]
  },
  {
   "cell_type": "code",
   "execution_count": 32,
   "metadata": {},
   "outputs": [
    {
     "name": "stdout",
     "output_type": "stream",
     "text": [
      "(76903, 154)\n"
     ]
    }
   ],
   "source": [
    "#dummy coding for test file categorical vars\n",
    "df_test_encode = pd.get_dummies(df_test_complete)\n",
    "print(df_test_encode.shape)"
   ]
  },
  {
   "cell_type": "code",
   "execution_count": 185,
   "metadata": {},
   "outputs": [
    {
     "name": "stdout",
     "output_type": "stream",
     "text": [
      "Weekly_Sales\n",
      "Temperature\n",
      "Fuel_Price\n",
      "MarkDown1\n",
      "MarkDown2\n",
      "MarkDown3\n",
      "MarkDown4\n",
      "MarkDown5\n",
      "CPI\n",
      "Unemployment\n",
      "Size\n",
      "IsHoliday_False\n",
      "IsHoliday_True\n",
      "Type_A\n",
      "Type_B\n",
      "Type_C\n",
      "Store_1\n",
      "Store_10\n",
      "Store_11\n",
      "Store_12\n",
      "Store_13\n",
      "Store_14\n",
      "Store_15\n",
      "Store_16\n",
      "Store_17\n",
      "Store_18\n",
      "Store_19\n",
      "Store_2\n",
      "Store_20\n",
      "Store_21\n",
      "Store_22\n",
      "Store_23\n",
      "Store_24\n",
      "Store_25\n",
      "Store_26\n",
      "Store_27\n",
      "Store_28\n",
      "Store_29\n",
      "Store_3\n",
      "Store_30\n",
      "Store_31\n",
      "Store_32\n",
      "Store_33\n",
      "Store_34\n",
      "Store_35\n",
      "Store_36\n",
      "Store_37\n",
      "Store_38\n",
      "Store_39\n",
      "Store_4\n",
      "Store_40\n",
      "Store_41\n",
      "Store_42\n",
      "Store_43\n",
      "Store_44\n",
      "Store_45\n",
      "Store_5\n",
      "Store_6\n",
      "Store_7\n",
      "Store_8\n",
      "Store_9\n",
      "Dept_1\n",
      "Dept_10\n",
      "Dept_11\n",
      "Dept_12\n",
      "Dept_13\n",
      "Dept_14\n",
      "Dept_16\n",
      "Dept_17\n",
      "Dept_18\n",
      "Dept_19\n",
      "Dept_2\n",
      "Dept_20\n",
      "Dept_21\n",
      "Dept_22\n",
      "Dept_23\n",
      "Dept_24\n",
      "Dept_25\n",
      "Dept_26\n",
      "Dept_27\n",
      "Dept_28\n",
      "Dept_29\n",
      "Dept_3\n",
      "Dept_30\n",
      "Dept_31\n",
      "Dept_32\n",
      "Dept_33\n",
      "Dept_34\n",
      "Dept_35\n",
      "Dept_36\n",
      "Dept_37\n",
      "Dept_38\n",
      "Dept_39\n",
      "Dept_4\n",
      "Dept_40\n",
      "Dept_41\n",
      "Dept_42\n",
      "Dept_43\n",
      "Dept_44\n",
      "Dept_45\n",
      "Dept_46\n",
      "Dept_47\n",
      "Dept_48\n",
      "Dept_49\n",
      "Dept_5\n",
      "Dept_50\n",
      "Dept_51\n",
      "Dept_52\n",
      "Dept_54\n",
      "Dept_55\n",
      "Dept_56\n",
      "Dept_58\n",
      "Dept_59\n",
      "Dept_6\n",
      "Dept_60\n",
      "Dept_65\n",
      "Dept_67\n",
      "Dept_7\n",
      "Dept_71\n",
      "Dept_72\n",
      "Dept_74\n",
      "Dept_77\n",
      "Dept_78\n",
      "Dept_79\n",
      "Dept_8\n",
      "Dept_80\n",
      "Dept_81\n",
      "Dept_82\n",
      "Dept_83\n",
      "Dept_85\n",
      "Dept_87\n",
      "Dept_9\n",
      "Dept_90\n",
      "Dept_91\n",
      "Dept_92\n",
      "Dept_93\n",
      "Dept_94\n",
      "Dept_95\n",
      "Dept_96\n",
      "Dept_97\n",
      "Dept_98\n",
      "Dept_99\n",
      "Month_10\n",
      "Month_5\n",
      "Month_6\n",
      "Month_7\n",
      "Month_8\n",
      "Month_9\n",
      "Year_12\n",
      "part_of_month_1st_week\n",
      "part_of_month_2nd_week\n",
      "part_of_month_3rd_week\n",
      "part_of_month_4th_week\n",
      "part_of_month_last_3_days\n"
     ]
    }
   ],
   "source": [
    "#unfortuantely not all of the columns exist in the Test data\n",
    "#compare this list to training set list of columns\n",
    "for col in df_test_encode.columns: \n",
    "    print(col) "
   ]
  },
  {
   "cell_type": "code",
   "execution_count": 33,
   "metadata": {},
   "outputs": [],
   "source": [
    "#Re-formatting training data \n",
    "#drop columns not found in the test data set from the training data set or model will not work\n",
    "#also drop vars eliminated in feature selection again\n",
    "#df_B is the training dataframe just after dummy coding w/ imputed data\n",
    "#Training: assign dependent and independent vars again with re-formatted data\n",
    "X_1 = df_B .drop(columns=['Weekly_Sales', 'Month_1', 'Month_11', 'Month_12', 'Month_2', 'Month_3', 'Month_4', \n",
    "                          'Year_10', 'Year_11', 'part_of_month_last_3_days'])\n",
    "y_1 = df_B [['Weekly_Sales']]\n",
    "\n",
    "\n",
    "#Test:assing dependent and independent vars\n",
    "X_test_1= df_test_encode .drop(columns=['Weekly_Sales', 'part_of_month_last_3_days'])\n",
    "y_test_1 = df_test_encode [['Weekly_Sales']]"
   ]
  },
  {
   "cell_type": "code",
   "execution_count": 34,
   "metadata": {},
   "outputs": [
    {
     "name": "stdout",
     "output_type": "stream",
     "text": [
      "(76903, 152)\n",
      "(344667, 152)\n",
      "(76903, 1)\n",
      "(344667, 1)\n"
     ]
    }
   ],
   "source": [
    "#check shape\n",
    "print(X_test_1.shape)\n",
    "print(X_1.shape)\n",
    "\n",
    "print(y_test_1.shape)\n",
    "print(y_1.shape)"
   ]
  },
  {
   "cell_type": "code",
   "execution_count": 38,
   "metadata": {},
   "outputs": [
    {
     "name": "stdout",
     "output_type": "stream",
     "text": [
      "Residual sum of squares: 491206377.45\n",
      "R2: -0.011834702822332233\n"
     ]
    }
   ],
   "source": [
    "from sklearn import neighbors\n",
    "from sklearn.metrics import r2_score\n",
    "from sklearn.metrics import mean_squared_error\n",
    "#Knn-Regression w/  Test set (seperate csv)\n",
    "#Ouch Serious overfitting\n",
    "knn_regression = neighbors.KNeighborsRegressor(n_neighbors=8, weights='uniform')\n",
    "knr = knn_regression.fit(X_1, y_1)\n",
    "print(\"Residual sum of squares: %.2f\"\n",
    "      % np.mean((knr.predict(X_test_1) - y_test_1) ** 2))\n",
    "print(\"R2:\", r2_score(y_test_1, knn_regression.predict(X_test_1)))"
   ]
  },
  {
   "cell_type": "code",
   "execution_count": 40,
   "metadata": {},
   "outputs": [],
   "source": [
    "#re-run knn loop with true test data since results were so poor\n",
    "\n",
    "error_test = []\n",
    "# Calculating error for K values between 1 and 20\n",
    "for i in range(1, 20):\n",
    "    knn_test = neighbors.KNeighborsRegressor(n_neighbors=i)\n",
    "    knn_test.fit(X_1, y_1)\n",
    "    pred_i = knn_test.predict(X_test_1)\n",
    "    error_test.append(np.mean(pred_i - y_test_1) ** 2)"
   ]
  },
  {
   "cell_type": "code",
   "execution_count": 41,
   "metadata": {},
   "outputs": [
    {
     "data": {
      "text/plain": [
       "Text(0, 0.5, 'Mean Error')"
      ]
     },
     "execution_count": 41,
     "metadata": {},
     "output_type": "execute_result"
    },
    {
     "data": {
      "image/png": "[encoded data removed]",
      "text/plain": [
       "<Figure size 864x432 with 1 Axes>"
      ]
     },
     "metadata": {
      "needs_background": "light"
     },
     "output_type": "display_data"
    }
   ],
   "source": [
    "#plot Ks to find optimal value, ends up at 8\n",
    "import matplotlib.pyplot as plt\n",
    "plt.figure(figsize=(12, 6))\n",
    "plt.plot(range(1, 20), error_test, color='red', linestyle='dashed', marker='o',\n",
    "         markerfacecolor='blue', markersize=10)\n",
    "plt.title('Error Rate K Value')\n",
    "plt.xlabel('K Value')\n",
    "plt.ylabel('Mean Error')"
   ]
  },
  {
   "cell_type": "code",
   "execution_count": 42,
   "metadata": {},
   "outputs": [
    {
     "name": "stdout",
     "output_type": "stream",
     "text": [
      "Residual sum of squares: 499028795.40\n",
      "R2: -0.02794808062375309\n"
     ]
    }
   ],
   "source": [
    "#Knn-Regression w/  Test set (seperate csv)\n",
    "#trying with new optimal K but results are still very poor \n",
    "\n",
    "knn_regression = neighbors.KNeighborsRegressor(n_neighbors=20, weights='uniform')\n",
    "knr = knn_regression.fit(X_1, y_1)\n",
    "print(\"Residual sum of squares: %.2f\"\n",
    "      % np.mean((knr.predict(X_test_1) - y_test_1) ** 2))\n",
    "print(\"R2:\", r2_score(y_test_1, knn_regression.predict(X_test_1)))"
   ]
  },
  {
   "cell_type": "code",
   "execution_count": 192,
   "metadata": {},
   "outputs": [
    {
     "name": "stdout",
     "output_type": "stream",
     "text": [
      "Residual sum of squares: 213609275.63\n",
      "R2: 0.5599868245740638\n"
     ]
    }
   ],
   "source": [
    "# Regression w/ feature selection using true Test Set (seperate csv)\n",
    "lr_test = lr.fit(X_1, y_1)\n",
    "print(\"Residual sum of squares: %.2f\"\n",
    "      % np.mean((lr_test.predict(X_test_1) - y_test_1) ** 2))\n",
    "print(\"R2:\", r2_score(y_test_1, lr.predict(X_test_1)))"
   ]
  },
  {
   "cell_type": "code",
   "execution_count": 194,
   "metadata": {},
   "outputs": [
    {
     "name": "stderr",
     "output_type": "stream",
     "text": [
      "C:\\Users\\rbart\\AppData\\Roaming\\Python\\Python37\\site-packages\\sklearn\\linear_model\\coordinate_descent.py:1100: DataConversionWarning: A column-vector y was passed when a 1d array was expected. Please change the shape of y to (n_samples, ), for example using ravel().\n",
      "  y = column_or_1d(y, warn=True)\n",
      "C:\\Users\\rbart\\AppData\\Roaming\\Python\\Python37\\site-packages\\sklearn\\linear_model\\coordinate_descent.py:471: ConvergenceWarning: Objective did not converge. You might want to increase the number of iterations. Duality gap: 22440383965386.816, tolerance: 13889150166.42255\n",
      "  tol, rng, random, positive)\n",
      "C:\\Users\\rbart\\AppData\\Roaming\\Python\\Python37\\site-packages\\sklearn\\linear_model\\coordinate_descent.py:471: ConvergenceWarning: Objective did not converge. You might want to increase the number of iterations. Duality gap: 19553065302036.523, tolerance: 13324979184.45765\n",
      "  tol, rng, random, positive)\n",
      "C:\\Users\\rbart\\AppData\\Roaming\\Python\\Python37\\site-packages\\sklearn\\linear_model\\coordinate_descent.py:471: ConvergenceWarning: Objective did not converge. You might want to increase the number of iterations. Duality gap: 24198228506161.46, tolerance: 15434426977.473288\n",
      "  tol, rng, random, positive)\n"
     ]
    }
   ],
   "source": [
    "#Check a lasso regression to see if it provides better results\n",
    "#performs automatic feature selection  \n",
    "from sklearn.linear_model import LassoCV\n",
    "l1_cv = LassoCV(cv=5, max_iter=100000, alphas=np.linspace(0.1,1000,100))\n",
    "lasso = l1_cv.fit(X_1, y_1)"
   ]
  },
  {
   "cell_type": "code",
   "execution_count": 202,
   "metadata": {},
   "outputs": [
    {
     "name": "stdout",
     "output_type": "stream",
     "text": [
      "R2: 0.5650814913649708\n",
      "MSE: 211136013.14195082\n"
     ]
    }
   ],
   "source": [
    "#LAsso reults\n",
    "#slightly imporved over regression, but nothing significant\n",
    "print(\"R2:\", r2_score(y_test_1, lasso.predict(X_test_1)))\n",
    "print(\"MSE:\", mean_squared_error(y_test_1, lasso.predict(X_test_1)))"
   ]
  }
 ],
 "metadata": {
  "kernelspec": {
   "display_name": "Python 3",
   "language": "python",
   "name": "python3"
  },
  "language_info": {
   "codemirror_mode": {
    "name": "ipython",
    "version": 3
   },
   "file_extension": ".py",
   "mimetype": "text/x-python",
   "name": "python",
   "nbconvert_exporter": "python",
   "pygments_lexer": "ipython3",
   "version": "3.7.1"
  }
 },
 "nbformat": 4,
 "nbformat_minor": 2
}
